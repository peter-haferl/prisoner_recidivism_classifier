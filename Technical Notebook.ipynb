{
 "cells": [
  {
   "cell_type": "markdown",
   "metadata": {},
   "source": [
    "# Technical Notebook\n",
    "#### Authors: Ian Reinert and Peter Haferl\n",
    "#### Date: 25/09/2019\n",
    "#### Data source: https://www.bjs.gov/content/data/ncrp/2004/da26521-0003.zip"
   ]
  },
  {
   "cell_type": "code",
   "execution_count": 1,
   "metadata": {},
   "outputs": [],
   "source": [
    "from clean_explore import *"
   ]
  },
  {
   "cell_type": "code",
   "execution_count": 2,
   "metadata": {},
   "outputs": [
    {
     "name": "stderr",
     "output_type": "stream",
     "text": [
      "C:\\ProgramData\\Anaconda3\\lib\\site-packages\\IPython\\core\\interactiveshell.py:3057: DtypeWarning: Columns (95,96,97,98) have mixed types. Specify dtype option on import or set low_memory=False.\n",
      "  interactivity=interactivity, compiler=compiler, result=result)\n"
     ]
    }
   ],
   "source": [
    "data = pd.read_csv('data/da26521-0003.tsv', sep='\\t', header=0)"
   ]
  },
  {
   "cell_type": "markdown",
   "metadata": {},
   "source": [
    "## Report - Predicting Parole Completion"
   ]
  },
  {
   "cell_type": "markdown",
   "metadata": {},
   "source": [
    "<em> Results: ~80% success rate in predicting parole completion in 2004 parole release data </em>\n",
    "#### Most important features: "
   ]
  },
  {
   "cell_type": "markdown",
   "metadata": {},
   "source": [
    "### Assumptions\n",
    "- Removing missing values (roughly 20% of the data) will not excessively bias results.\n",
    "- It is valid to drop columns with missing value share greater than 0.20\n",
    "- Colinearity between remaining time-related features will not excessively bias results\n",
    "- Measurement error does not excessively bias results (data collected via filling out forms)."
   ]
  },
  {
   "cell_type": "markdown",
   "metadata": {},
   "source": [
    "### Open issues/problems"
   ]
  },
  {
   "cell_type": "markdown",
   "metadata": {},
   "source": [
    "- Trying to minimize implicit racial and gender bias.\n",
    "- Possible leakage in data cleaning (data was not split before clean).\n",
    "- More rigorous SVM optimization"
   ]
  },
  {
   "cell_type": "markdown",
   "metadata": {},
   "source": [
    "### Analysis"
   ]
  },
  {
   "cell_type": "markdown",
   "metadata": {},
   "source": [
    "<b>Our steps were as follows:</b><br>\n",
    "<b> 1. Clean and explore data</b> - notable steps were replacing life sentences (coded '99999') with the 2004 average life sentence of 29 years (https://www.opensocietyfoundations.org/publications/meaning-life-long-prison-sentences-context), labeling our outcome variable as either 1 (parole completed) or 0 (state supervision continues) dropping variables that were contingent on our outcome variable (e.g. time served on parole, age at parole release), and removing gender and race variables.<br>\n",
    "<b> 2. Running a baseline logistic regression model</b>: <em>Accuracy: 70% </em><br>\n",
    "<b> 3. Building optimized models</b>: <em> Best Optimized Model (random forest) Accuracy: 80%"
   ]
  },
  {
   "cell_type": "code",
   "execution_count": null,
   "metadata": {},
   "outputs": [],
   "source": []
  }
 ],
 "metadata": {
  "kernelspec": {
   "display_name": "Python 3",
   "language": "python",
   "name": "python3"
  },
  "language_info": {
   "codemirror_mode": {
    "name": "ipython",
    "version": 3
   },
   "file_extension": ".py",
   "mimetype": "text/x-python",
   "name": "python",
   "nbconvert_exporter": "python",
   "pygments_lexer": "ipython3",
   "version": "3.7.3"
  }
 },
 "nbformat": 4,
 "nbformat_minor": 2
}
