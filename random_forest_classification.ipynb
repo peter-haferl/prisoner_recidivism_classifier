{
 "cells": [
  {
   "cell_type": "code",
   "execution_count": 71,
   "metadata": {},
   "outputs": [],
   "source": [
    "import pandas as pd\n",
    "import numpy as np\n",
    "import tqdm\n",
    "import missingno as msno\n",
    "from sklearn.ensemble import RandomForestClassifier\n",
    "from sklearn.metrics import classification_report\n",
    "from sklearn.metrics import confusion_matrix\n",
    "from sklearn.model_selection import train_test_split, GridSearchCV\n",
    "from sklearn.metrics import roc_curve\n",
    "from sklearn.metrics import roc_auc_score\n",
    "from sklearn.pipeline import Pipeline\n",
    "from yellowbrick.classifier import ClassificationReport\n",
    "from yellowbrick.classifier import ConfusionMatrix\n",
    "from sklearn.externals import joblib\n",
    "from scipy.stats import chi2_contingency\n",
    "import matplotlib.pyplot as plt\n",
    "import warnings \n",
    "\n",
    "%matplotlib inline"
   ]
  },
  {
   "cell_type": "code",
   "execution_count": 72,
   "metadata": {
    "scrolled": true
   },
   "outputs": [
    {
     "name": "stderr",
     "output_type": "stream",
     "text": [
      "/home/peter/anaconda3/lib/python3.7/site-packages/IPython/core/interactiveshell.py:3049: DtypeWarning: Columns (95,96,97,98) have mixed types. Specify dtype option on import or set low_memory=False.\n",
      "  interactivity=interactivity, compiler=compiler, result=result)\n"
     ]
    }
   ],
   "source": [
    "data = pd.read_csv('da26521-0003.tsv', sep='\\t', header=0)"
   ]
  },
  {
   "cell_type": "code",
   "execution_count": 73,
   "metadata": {},
   "outputs": [],
   "source": [
    "def replace_missing(x):\n",
    "    \n",
    "    if len(str(x)) == 1 and x in [8, 5, 9]:\n",
    "            return np.nan\n",
    "        \n",
    "    if len(str(x)) == 2 and x in [88, 95, 98, 99, 97]:\n",
    "            return np.nan\n",
    "        \n",
    "    if len(str(x)) == 3 and x in [888, 995, 998, 999, 98.0]:\n",
    "            return np.nan\n",
    "        \n",
    "    if len(str(x)) == 4 and x in [88.8, 99.5, 99.8, 8888, 9995, 9998, 9999]:\n",
    "            return np.nan\n",
    "        \n",
    "    if len(str(x)) == 5 and x in [888.8, 999.5, 999.8, 88888, 99995, 99998, 99999]:\n",
    "            return np.nan\n",
    "        \n",
    "    if len(str(x)) == 6 and x in [8888.8, 9999.5, 9999.8]:\n",
    "            return np.nan    \n",
    "    \n",
    "    else:\n",
    "        return x"
   ]
  },
  {
   "cell_type": "code",
   "execution_count": 74,
   "metadata": {},
   "outputs": [],
   "source": [
    "data = data.applymap(lambda x: replace_missing(x)).copy()"
   ]
  },
  {
   "cell_type": "code",
   "execution_count": 78,
   "metadata": {},
   "outputs": [],
   "source": [
    "def list_of_absent_data_columns(data, ratio=0.2):\n",
    "    \"\"\"returns list of columns whose missing values make up \\\n",
    "    more than a set ratio (default is half) of the data\"\"\"\n",
    "    variables_list = list(data.columns)\n",
    "    missing_list = []\n",
    "    for variable in variables_list:\n",
    "        missing_ratio = sum(data[variable].isna()) / len(data)\n",
    "        if missing_ratio > ratio:\n",
    "            missing_list.append(variable)\n",
    "    return missing_list"
   ]
  },
  {
   "cell_type": "code",
   "execution_count": 79,
   "metadata": {},
   "outputs": [],
   "source": [
    "absent_columns = list_of_absent_data_columns(data)"
   ]
  },
  {
   "cell_type": "code",
   "execution_count": 80,
   "metadata": {},
   "outputs": [],
   "source": [
    "data.drop(columns=absent_columns, inplace=True)"
   ]
  },
  {
   "cell_type": "code",
   "execution_count": 81,
   "metadata": {},
   "outputs": [],
   "source": [
    "def missing_vis(data):\n",
    "    \"\"\"Returns 4 graphics: bar chart, distributions, heatmap \\\n",
    "    (of correlation between nulls), and dendogram\"\"\"\n",
    "    msno.bar(data);\n",
    "    msno.matrix(data);\n",
    "    msno.heatmap(data);\n",
    "    msno.dendrogram(data);\n"
   ]
  },
  {
   "cell_type": "code",
   "execution_count": 82,
   "metadata": {
    "scrolled": true
   },
   "outputs": [
    {
     "data": {
      "text/plain": [
       "(289009, 34)"
      ]
     },
     "execution_count": 82,
     "metadata": {},
     "output_type": "execute_result"
    }
   ],
   "source": [
    "data.shape"
   ]
  },
  {
   "cell_type": "code",
   "execution_count": 83,
   "metadata": {},
   "outputs": [
    {
     "name": "stdout",
     "output_type": "stream",
     "text": [
      "['V1', 'V2', 'V3', 'V5', 'V54', 'V95']\n"
     ]
    }
   ],
   "source": [
    "singular_variables = []\n",
    "for col in data.columns:\n",
    "#     print(col, len(set(prison_data[col])))\n",
    "    if data[col].nunique() == 1:\n",
    "        singular_variables.append(col)\n",
    "print(singular_variables)\n"
   ]
  },
  {
   "cell_type": "code",
   "execution_count": 84,
   "metadata": {
    "scrolled": true
   },
   "outputs": [],
   "source": [
    "data.drop(columns = singular_variables, inplace=True)"
   ]
  },
  {
   "cell_type": "code",
   "execution_count": 85,
   "metadata": {
    "scrolled": true
   },
   "outputs": [
    {
     "data": {
      "text/plain": [
       "Index(['V4', 'V8', 'V9', 'V10', 'V15', 'V24', 'V25', 'V26', 'V32', 'V33',\n",
       "       'V34', 'V46', 'V48', 'V51', 'V55', 'V56', 'V57', 'V58', 'V59', 'V62',\n",
       "       'V67', 'V70', 'V71', 'V94', 'V96', 'V97', 'V98', 'V99'],\n",
       "      dtype='object')"
      ]
     },
     "execution_count": 85,
     "metadata": {},
     "output_type": "execute_result"
    }
   ],
   "source": [
    "data.columns"
   ]
  },
  {
   "cell_type": "code",
   "execution_count": 86,
   "metadata": {
    "scrolled": true
   },
   "outputs": [
    {
     "data": {
      "text/html": [
       "<div>\n",
       "<style scoped>\n",
       "    .dataframe tbody tr th:only-of-type {\n",
       "        vertical-align: middle;\n",
       "    }\n",
       "\n",
       "    .dataframe tbody tr th {\n",
       "        vertical-align: top;\n",
       "    }\n",
       "\n",
       "    .dataframe thead th {\n",
       "        text-align: right;\n",
       "    }\n",
       "</style>\n",
       "<table border=\"1\" class=\"dataframe\">\n",
       "  <thead>\n",
       "    <tr style=\"text-align: right;\">\n",
       "      <th></th>\n",
       "      <th>V4</th>\n",
       "      <th>V8</th>\n",
       "      <th>V9</th>\n",
       "      <th>V10</th>\n",
       "      <th>V15</th>\n",
       "      <th>V24</th>\n",
       "      <th>V25</th>\n",
       "      <th>V26</th>\n",
       "      <th>V32</th>\n",
       "      <th>V33</th>\n",
       "      <th>...</th>\n",
       "      <th>V59</th>\n",
       "      <th>V62</th>\n",
       "      <th>V67</th>\n",
       "      <th>V70</th>\n",
       "      <th>V71</th>\n",
       "      <th>V94</th>\n",
       "      <th>V96</th>\n",
       "      <th>V97</th>\n",
       "      <th>V98</th>\n",
       "      <th>V99</th>\n",
       "    </tr>\n",
       "  </thead>\n",
       "  <tbody>\n",
       "    <tr>\n",
       "      <th>0</th>\n",
       "      <td>1.0</td>\n",
       "      <td>1949.0</td>\n",
       "      <td>1.0</td>\n",
       "      <td>2.0</td>\n",
       "      <td>2002.0</td>\n",
       "      <td>28.1</td>\n",
       "      <td>0.0</td>\n",
       "      <td>410.0</td>\n",
       "      <td>410.0</td>\n",
       "      <td>120.0</td>\n",
       "      <td>...</td>\n",
       "      <td>55.6</td>\n",
       "      <td>14.2</td>\n",
       "      <td>12.0</td>\n",
       "      <td>2.0</td>\n",
       "      <td>0</td>\n",
       "      <td>1.0</td>\n",
       "      <td>000809</td>\n",
       "      <td>999998</td>\n",
       "      <td>999998</td>\n",
       "      <td>000809</td>\n",
       "    </tr>\n",
       "    <tr>\n",
       "      <th>1</th>\n",
       "      <td>2.0</td>\n",
       "      <td>1948.0</td>\n",
       "      <td>1.0</td>\n",
       "      <td>2.0</td>\n",
       "      <td>2000.0</td>\n",
       "      <td>8.8</td>\n",
       "      <td>0.0</td>\n",
       "      <td>190.0</td>\n",
       "      <td>540.0</td>\n",
       "      <td>180.0</td>\n",
       "      <td>...</td>\n",
       "      <td>55.6</td>\n",
       "      <td>44.8</td>\n",
       "      <td>6.1</td>\n",
       "      <td>2.0</td>\n",
       "      <td>2</td>\n",
       "      <td>1.0</td>\n",
       "      <td>000103</td>\n",
       "      <td>000490</td>\n",
       "      <td>999998</td>\n",
       "      <td>000490</td>\n",
       "    </tr>\n",
       "    <tr>\n",
       "      <th>2</th>\n",
       "      <td>3.0</td>\n",
       "      <td>1943.0</td>\n",
       "      <td>1.0</td>\n",
       "      <td>2.0</td>\n",
       "      <td>2000.0</td>\n",
       "      <td>10.4</td>\n",
       "      <td>0.0</td>\n",
       "      <td>270.0</td>\n",
       "      <td>270.0</td>\n",
       "      <td>180.0</td>\n",
       "      <td>...</td>\n",
       "      <td>61.1</td>\n",
       "      <td>41.4</td>\n",
       "      <td>7.1</td>\n",
       "      <td>2.0</td>\n",
       "      <td>0</td>\n",
       "      <td>1.0</td>\n",
       "      <td>000212</td>\n",
       "      <td>999998</td>\n",
       "      <td>999998</td>\n",
       "      <td>000212</td>\n",
       "    </tr>\n",
       "    <tr>\n",
       "      <th>3</th>\n",
       "      <td>4.0</td>\n",
       "      <td>1948.0</td>\n",
       "      <td>1.0</td>\n",
       "      <td>2.0</td>\n",
       "      <td>1984.0</td>\n",
       "      <td>1.6</td>\n",
       "      <td>0.0</td>\n",
       "      <td>410.0</td>\n",
       "      <td>370.0</td>\n",
       "      <td>240.0</td>\n",
       "      <td>...</td>\n",
       "      <td>55.9</td>\n",
       "      <td>102.0</td>\n",
       "      <td>136.3</td>\n",
       "      <td>2.0</td>\n",
       "      <td>2</td>\n",
       "      <td>1.0</td>\n",
       "      <td>000809</td>\n",
       "      <td>000808</td>\n",
       "      <td>000252</td>\n",
       "      <td>000808</td>\n",
       "    </tr>\n",
       "    <tr>\n",
       "      <th>4</th>\n",
       "      <td>NaN</td>\n",
       "      <td>1950.0</td>\n",
       "      <td>1.0</td>\n",
       "      <td>2.0</td>\n",
       "      <td>NaN</td>\n",
       "      <td>0.0</td>\n",
       "      <td>247.7</td>\n",
       "      <td>10.0</td>\n",
       "      <td>10.0</td>\n",
       "      <td>99999.6</td>\n",
       "      <td>...</td>\n",
       "      <td>53.7</td>\n",
       "      <td>NaN</td>\n",
       "      <td>179.1</td>\n",
       "      <td>2.0</td>\n",
       "      <td>2</td>\n",
       "      <td>1.0</td>\n",
       "      <td>000003</td>\n",
       "      <td>000105</td>\n",
       "      <td>999998</td>\n",
       "      <td>000003</td>\n",
       "    </tr>\n",
       "  </tbody>\n",
       "</table>\n",
       "<p>5 rows × 28 columns</p>\n",
       "</div>"
      ],
      "text/plain": [
       "    V4      V8   V9  V10     V15   V24    V25    V26    V32      V33  ...  \\\n",
       "0  1.0  1949.0  1.0  2.0  2002.0  28.1    0.0  410.0  410.0    120.0  ...   \n",
       "1  2.0  1948.0  1.0  2.0  2000.0   8.8    0.0  190.0  540.0    180.0  ...   \n",
       "2  3.0  1943.0  1.0  2.0  2000.0  10.4    0.0  270.0  270.0    180.0  ...   \n",
       "3  4.0  1948.0  1.0  2.0  1984.0   1.6    0.0  410.0  370.0    240.0  ...   \n",
       "4  NaN  1950.0  1.0  2.0     NaN   0.0  247.7   10.0   10.0  99999.6  ...   \n",
       "\n",
       "    V59    V62    V67  V70  V71  V94                   V96  \\\n",
       "0  55.6   14.2   12.0  2.0    0  1.0                000809   \n",
       "1  55.6   44.8    6.1  2.0    2  1.0                000103   \n",
       "2  61.1   41.4    7.1  2.0    0  1.0                000212   \n",
       "3  55.9  102.0  136.3  2.0    2  1.0                000809   \n",
       "4  53.7    NaN  179.1  2.0    2  1.0                000003   \n",
       "\n",
       "                    V97                   V98                   V99  \n",
       "0                999998                999998                000809  \n",
       "1                000490                999998                000490  \n",
       "2                999998                999998                000212  \n",
       "3                000808                000252                000808  \n",
       "4                000105                999998                000003  \n",
       "\n",
       "[5 rows x 28 columns]"
      ]
     },
     "execution_count": 86,
     "metadata": {},
     "output_type": "execute_result"
    }
   ],
   "source": [
    "data.head()"
   ]
  },
  {
   "cell_type": "code",
   "execution_count": 87,
   "metadata": {},
   "outputs": [
    {
     "data": {
      "text/plain": [
       "(289009, 28)"
      ]
     },
     "execution_count": 87,
     "metadata": {},
     "output_type": "execute_result"
    }
   ],
   "source": [
    "data.shape"
   ]
  },
  {
   "cell_type": "code",
   "execution_count": 92,
   "metadata": {},
   "outputs": [],
   "source": [
    "data = data.dropna()"
   ]
  },
  {
   "cell_type": "code",
   "execution_count": 93,
   "metadata": {},
   "outputs": [],
   "source": [
    "data_clean = data[data['V55'] != 10].copy()"
   ]
  },
  {
   "cell_type": "code",
   "execution_count": 94,
   "metadata": {},
   "outputs": [],
   "source": [
    "data_clean['outcome'] = data_clean['V55'].map(lambda x: 1 if x == 1 else 0)"
   ]
  },
  {
   "cell_type": "code",
   "execution_count": 95,
   "metadata": {},
   "outputs": [
    {
     "data": {
      "text/plain": [
       "1    80565\n",
       "0    79714\n",
       "Name: outcome, dtype: int64"
      ]
     },
     "execution_count": 95,
     "metadata": {},
     "output_type": "execute_result"
    }
   ],
   "source": [
    "data_clean['outcome'].value_counts()"
   ]
  },
  {
   "cell_type": "code",
   "execution_count": 96,
   "metadata": {},
   "outputs": [],
   "source": [
    "data_clean.drop(columns='V55', inplace=True)"
   ]
  },
  {
   "cell_type": "code",
   "execution_count": 97,
   "metadata": {},
   "outputs": [],
   "source": [
    "data_clean.drop(columns=['V96', 'V97', 'V98', 'V99'], inplace=True)"
   ]
  },
  {
   "cell_type": "code",
   "execution_count": 98,
   "metadata": {},
   "outputs": [
    {
     "data": {
      "text/plain": [
       "Index(['V4', 'V8', 'V9', 'V10', 'V15', 'V24', 'V25', 'V26', 'V32', 'V33',\n",
       "       'V34', 'V46', 'V48', 'V51', 'V56', 'V57', 'V58', 'V59', 'V62', 'V67',\n",
       "       'V70', 'V71', 'V94', 'outcome'],\n",
       "      dtype='object')"
      ]
     },
     "execution_count": 98,
     "metadata": {},
     "output_type": "execute_result"
    }
   ],
   "source": [
    "data_clean.columns"
   ]
  },
  {
   "cell_type": "code",
   "execution_count": 99,
   "metadata": {
    "scrolled": false
   },
   "outputs": [
    {
     "data": {
      "text/plain": [
       "(160279, 24)"
      ]
     },
     "execution_count": 99,
     "metadata": {},
     "output_type": "execute_result"
    }
   ],
   "source": [
    "data_clean.shape"
   ]
  },
  {
   "cell_type": "code",
   "execution_count": 100,
   "metadata": {},
   "outputs": [],
   "source": [
    "variable_names = {'V4': 'case_id',\n",
    "                  'V8': 'birth_year',\n",
    "                  'V9': 'sex',\n",
    "                  'V10': 'race',\n",
    "                  'V15': 'admission_year',\n",
    "                  'V24': 'prior_jail_time',\n",
    "                  'V25': 'prior_prison_time',\n",
    "                  'V26': 'offense_1',\n",
    "                  'V32': 'offense_longest_sentence',\n",
    "                  'V33': 'length_longest_sentence',\n",
    "                  'V34': 'total_max_sentence_length',\n",
    "                  'V46': 'year_prison_release',\n",
    "                  'V48': 'custody_agency_1',\n",
    "                  'V51': 'release_type',\n",
    "                  'V56': 'release_supervision_status',\n",
    "                  'V57': 'age_admission',\n",
    "                  'V58': 'age_prison_release',\n",
    "                  'V59': 'age_parole_release',\n",
    "                  'V62': 'time_served_current_admission',\n",
    "                  'V67': 'time_served_parole',\n",
    "                  'V70': 'total_max_sentence_indicator',\n",
    "                  'V71': 'number_of_offenses_indicator',\n",
    "                  'V94': 'state'}\n",
    "variable_categories = {'key': ['case_id'],\n",
    "                       'datetime': ['birth_year', 'admission_year', 'year_prison_release'],\n",
    "                       'categorical': ['sex', 'race', 'offense_1', 'offense_longest_sentence', 'custody_agency_1',\n",
    "                                       'release_type', 'release_supervision_status', 'number_of_offenses_indicator',\n",
    "                                       'state'],\n",
    "                       'numeric': ['prior_jail_time', 'prior_prison_time', 'age_admission', 'age_parole_release',\n",
    "                                   'time_served_current_admission', 'time_served_parole'],\n",
    "                       'mixed_numeric': ['length_longest_sentence', 'total_max_sentence_length',\n",
    "                                         'total_max_sentence_indicator']}"
   ]
  },
  {
   "cell_type": "code",
   "execution_count": 101,
   "metadata": {},
   "outputs": [],
   "source": [
    "descriptive_columns = list(variable_names.values())\n",
    "descriptive_columns.append('outcome')\n",
    "data_clean.columns = descriptive_columns\n",
    "data_clean = pd.get_dummies(data_clean, columns=variable_categories['categorical'], \n",
    "                            drop_first=True)"
   ]
  },
  {
   "cell_type": "code",
   "execution_count": 102,
   "metadata": {},
   "outputs": [],
   "source": [
    "data_clean.drop(columns=['race_2.0', 'race_3.0', 'race_4.0', 'race_6.0', 'sex_2.0'], inplace=True)"
   ]
  },
  {
   "cell_type": "markdown",
   "metadata": {},
   "source": [
    "## Random Forest Model"
   ]
  },
  {
   "cell_type": "code",
   "execution_count": 103,
   "metadata": {},
   "outputs": [],
   "source": [
    "X = data_clean.drop(columns='outcome')\n",
    "y = data_clean['outcome']"
   ]
  },
  {
   "cell_type": "code",
   "execution_count": 104,
   "metadata": {},
   "outputs": [],
   "source": [
    "X_train, X_test, y_train, y_test = train_test_split(X, y)"
   ]
  },
  {
   "cell_type": "code",
   "execution_count": 105,
   "metadata": {},
   "outputs": [],
   "source": [
    "# yellowbrick.ClassBalance().fit(y_train);"
   ]
  },
  {
   "cell_type": "markdown",
   "metadata": {},
   "source": [
    "### Random Forest Classifier Training"
   ]
  },
  {
   "cell_type": "markdown",
   "metadata": {},
   "source": [
    "#### Grid Search for Params"
   ]
  },
  {
   "cell_type": "code",
   "execution_count": 110,
   "metadata": {},
   "outputs": [],
   "source": [
    "# Set parameters for GridSearchCV to investigate\n",
    "\n",
    "params = {\n",
    "    'max_features' : ['auto', 'log2'],\n",
    "    'criterion' : ['gini', 'entropy'],\n",
    "    'n_estimators' : [150],\n",
    "    'max_depth' : [1, 10, 100, 1000, None]\n",
    "}"
   ]
  },
  {
   "cell_type": "code",
   "execution_count": 111,
   "metadata": {},
   "outputs": [],
   "source": [
    "# Define GridSearchCV Object and Parameters\n",
    "\n",
    "search = GridSearchCV(estimator=RandomForestClassifier(),\n",
    "                     scoring='accuracy',\n",
    "                     param_grid=params,\n",
    "                     cv=5,\n",
    "                     return_train_score=True,\n",
    "                     verbose=True,\n",
    "                     n_jobs=-1)"
   ]
  },
  {
   "cell_type": "code",
   "execution_count": 112,
   "metadata": {
    "scrolled": true
   },
   "outputs": [
    {
     "name": "stdout",
     "output_type": "stream",
     "text": [
      "Fitting 5 folds for each of 20 candidates, totalling 100 fits\n"
     ]
    },
    {
     "name": "stderr",
     "output_type": "stream",
     "text": [
      "[Parallel(n_jobs=-1)]: Using backend LokyBackend with 4 concurrent workers.\n",
      "[Parallel(n_jobs=-1)]: Done  42 tasks      | elapsed: 11.5min\n",
      "[Parallel(n_jobs=-1)]: Done 100 out of 100 | elapsed: 27.6min finished\n"
     ]
    },
    {
     "data": {
      "text/plain": [
       "GridSearchCV(cv=5, error_score='raise-deprecating',\n",
       "       estimator=RandomForestClassifier(bootstrap=True, class_weight=None, criterion='gini',\n",
       "            max_depth=None, max_features='auto', max_leaf_nodes=None,\n",
       "            min_impurity_decrease=0.0, min_impurity_split=None,\n",
       "            min_samples_leaf=1, min_samples_split=2,\n",
       "            min_weight_fraction_leaf=0.0, n_estimators='warn', n_jobs=None,\n",
       "            oob_score=False, random_state=None, verbose=0,\n",
       "            warm_start=False),\n",
       "       fit_params=None, iid='warn', n_jobs=-1,\n",
       "       param_grid={'max_features': ['auto', 'log2'], 'criterion': ['gini', 'entropy'], 'n_estimators': [150], 'max_depth': [1, 10, 100, 1000, None]},\n",
       "       pre_dispatch='2*n_jobs', refit=True, return_train_score=True,\n",
       "       scoring=None, verbose=True)"
      ]
     },
     "execution_count": 112,
     "metadata": {},
     "output_type": "execute_result"
    }
   ],
   "source": [
    "# Run the GridSearchCV\n",
    "\n",
    "warnings.simplefilter('ignore')\n",
    "\n",
    "# search.fit(X_train, y_train)"
   ]
  },
  {
   "cell_type": "code",
   "execution_count": 114,
   "metadata": {},
   "outputs": [
    {
     "data": {
      "text/plain": [
       "['grid_search_rf.sav']"
      ]
     },
     "execution_count": 114,
     "metadata": {},
     "output_type": "execute_result"
    }
   ],
   "source": [
    "# Save GridSearchCV results\n",
    "\n",
    "filename = 'grid_search_rf.sav'\n",
    "joblib.dump(search, filename)"
   ]
  },
  {
   "cell_type": "code",
   "execution_count": 183,
   "metadata": {},
   "outputs": [
    {
     "name": "stdout",
     "output_type": "stream",
     "text": [
      "{'criterion': 'entropy', 'max_depth': 100, 'max_features': 'auto', 'n_estimators': 150} 0.8929447878278665\n"
     ]
    }
   ],
   "source": [
    "# Find best parameters to use in model \n",
    "\n",
    "search = joblib.load('grid_search_rf.sav')\n",
    "print(search.best_params_, search.best_score_)"
   ]
  },
  {
   "cell_type": "markdown",
   "metadata": {},
   "source": [
    "#### Random Forest Model"
   ]
  },
  {
   "cell_type": "code",
   "execution_count": 184,
   "metadata": {},
   "outputs": [],
   "source": [
    "# Set RandomForest model based on GridSearchCV results\n",
    "\n",
    "rfc = RandomForestClassifier(criterion='entropy', max_depth=100, max_features='auto', n_estimators=150, n_jobs=-1)"
   ]
  },
  {
   "cell_type": "code",
   "execution_count": 185,
   "metadata": {
    "scrolled": true
   },
   "outputs": [
    {
     "data": {
      "text/plain": [
       "RandomForestClassifier(bootstrap=True, class_weight=None, criterion='entropy',\n",
       "            max_depth=100, max_features='auto', max_leaf_nodes=None,\n",
       "            min_impurity_decrease=0.0, min_impurity_split=None,\n",
       "            min_samples_leaf=1, min_samples_split=2,\n",
       "            min_weight_fraction_leaf=0.0, n_estimators=150, n_jobs=-1,\n",
       "            oob_score=False, random_state=None, verbose=0,\n",
       "            warm_start=False)"
      ]
     },
     "execution_count": 185,
     "metadata": {},
     "output_type": "execute_result"
    }
   ],
   "source": [
    "# Fit model\n",
    "\n",
    "rfc.fit(X_train, y_train)"
   ]
  },
  {
   "cell_type": "code",
   "execution_count": 186,
   "metadata": {},
   "outputs": [],
   "source": [
    "# Get train predictions from model\n",
    "\n",
    "y_train_pred = rfc.predict(X_train)"
   ]
  },
  {
   "cell_type": "code",
   "execution_count": 187,
   "metadata": {},
   "outputs": [
    {
     "data": {
      "text/plain": [
       "array([[59696,     0],\n",
       "       [    0, 60513]])"
      ]
     },
     "execution_count": 187,
     "metadata": {},
     "output_type": "execute_result"
    }
   ],
   "source": [
    "# Analyze results via confustion matrix\n",
    "\n",
    "confusion_matrix(y_train, y_train_pred)"
   ]
  },
  {
   "cell_type": "code",
   "execution_count": 188,
   "metadata": {
    "scrolled": true
   },
   "outputs": [
    {
     "name": "stdout",
     "output_type": "stream",
     "text": [
      "              precision    recall  f1-score   support\n",
      "\n",
      "           0       1.00      1.00      1.00     59696\n",
      "           1       1.00      1.00      1.00     60513\n",
      "\n",
      "   micro avg       1.00      1.00      1.00    120209\n",
      "   macro avg       1.00      1.00      1.00    120209\n",
      "weighted avg       1.00      1.00      1.00    120209\n",
      "\n"
     ]
    }
   ],
   "source": [
    "# Analyze results via precision/recall/fl_score\n",
    "\n",
    "print(classification_report(y_train, y_train_pred))"
   ]
  },
  {
   "cell_type": "code",
   "execution_count": 220,
   "metadata": {},
   "outputs": [
    {
     "data": {
      "image/png": "[encoded data removed]",
      "text/plain": [
       "<Figure size 432x288 with 1 Axes>"
      ]
     },
     "metadata": {
      "needs_background": "light"
     },
     "output_type": "display_data"
    }
   ],
   "source": [
    "# Graph ROC curve for model\n",
    "\n",
    "probs_train = rfc.predict_proba(X_train)[:,1]\n",
    "\n",
    "fpr, tpr, thresholds = roc_curve(y_train, probs_train)\n",
    "# Plot no skill\n",
    "plt.plot([0, 1], [0, 1], linestyle='--')\n",
    "# Plot the roc curve for the model\n",
    "plt.plot(fpr, tpr, marker='.')\n",
    "# Show the plot\n",
    "plt.show()"
   ]
  },
  {
   "cell_type": "markdown",
   "metadata": {},
   "source": [
    "### Random Forest Classifier Testing"
   ]
  },
  {
   "cell_type": "code",
   "execution_count": 192,
   "metadata": {},
   "outputs": [],
   "source": [
    "# Get test results\n",
    "\n",
    "y_test_pred = rfc.predict(X_test)"
   ]
  },
  {
   "cell_type": "code",
   "execution_count": 193,
   "metadata": {},
   "outputs": [
    {
     "data": {
      "text/plain": [
       "array([[18557,  1461],\n",
       "       [ 2762, 17290]])"
      ]
     },
     "execution_count": 193,
     "metadata": {},
     "output_type": "execute_result"
    }
   ],
   "source": [
    "# Analyze results via confustion matrix\n",
    "\n",
    "confusion_matrix(y_test, y_test_pred)"
   ]
  },
  {
   "cell_type": "code",
   "execution_count": 194,
   "metadata": {
    "scrolled": true
   },
   "outputs": [
    {
     "name": "stdout",
     "output_type": "stream",
     "text": [
      "              precision    recall  f1-score   support\n",
      "\n",
      "           0       0.87      0.93      0.90     20018\n",
      "           1       0.92      0.86      0.89     20052\n",
      "\n",
      "   micro avg       0.89      0.89      0.89     40070\n",
      "   macro avg       0.90      0.89      0.89     40070\n",
      "weighted avg       0.90      0.89      0.89     40070\n",
      "\n"
     ]
    }
   ],
   "source": [
    "# Analyze results via precision/recall/fl_score\n",
    "\n",
    "print(classification_report(y_test, y_test_pred))"
   ]
  },
  {
   "cell_type": "code",
   "execution_count": 221,
   "metadata": {},
   "outputs": [
    {
     "data": {
      "image/png": "[encoded data removed]",
      "text/plain": [
       "<Figure size 432x288 with 1 Axes>"
      ]
     },
     "metadata": {
      "needs_background": "light"
     },
     "output_type": "display_data"
    }
   ],
   "source": [
    "# Graph ROC curve for model\n",
    "\n",
    "probs_test = rfc.predict_proba(X_test)[:,1]\n",
    "\n",
    "fpr, tpr, thresholds = roc_curve(y_test, probs_test)\n",
    "# plot no skill\n",
    "plt.plot([0, 1], [0, 1], linestyle='--')\n",
    "# plot the roc curve for the model\n",
    "plt.plot(fpr, tpr, marker='.')\n",
    "# show the plot\n",
    "plt.show()"
   ]
  },
  {
   "cell_type": "markdown",
   "metadata": {},
   "source": [
    "### Bias Analysis"
   ]
  },
  {
   "cell_type": "markdown",
   "metadata": {},
   "source": [
    "#### Gender Bias"
   ]
  },
  {
   "cell_type": "markdown",
   "metadata": {},
   "source": [
    "##### False Positives"
   ]
  },
  {
   "cell_type": "code",
   "execution_count": 224,
   "metadata": {},
   "outputs": [],
   "source": [
    "# Generate Dataframe with results and original dataset\n",
    "\n",
    "preds = pd.concat([y_test, pd.Series(y_test_pred, name='pred', index=y_test.index), X_test], axis=1, ignore_index=False)\n",
    "\n",
    "preds = pd.merge(preds, data[['V9', 'V10']], left_index=True, right_index=True)"
   ]
  },
  {
   "cell_type": "code",
   "execution_count": 258,
   "metadata": {},
   "outputs": [],
   "source": [
    "# Calculate sex-based percentage of false positives\n",
    "\n",
    "sex_false_pos = preds.loc[(preds['outcome'] == 0) & (preds['pred'] == 1)]['V9']\n",
    "\n",
    "men_false_pos = sum(sex_false_pos == 1)/sum(data['V9'] == 1)\n",
    "\n",
    "women_false_pos = sum(sex_false_pos == 2)/sum(data['V9'] == 2)"
   ]
  },
  {
   "cell_type": "code",
   "execution_count": 259,
   "metadata": {
    "scrolled": true
   },
   "outputs": [
    {
     "data": {
      "text/plain": [
       "Text(0.5, 1.0, 'False Positive')"
      ]
     },
     "execution_count": 259,
     "metadata": {},
     "output_type": "execute_result"
    },
    {
     "data": {
      "image/png": "[encoded data removed]",
      "text/plain": [
       "<Figure size 432x288 with 1 Axes>"
      ]
     },
     "metadata": {
      "needs_background": "light"
     },
     "output_type": "display_data"
    }
   ],
   "source": [
    "plt.bar(x=['men', 'women'], height=[men_false_pos, women_false_pos])\n",
    "plt.title('False Positive')"
   ]
  },
  {
   "cell_type": "markdown",
   "metadata": {},
   "source": [
    "##### False Negatives"
   ]
  },
  {
   "cell_type": "code",
   "execution_count": 269,
   "metadata": {
    "scrolled": true
   },
   "outputs": [],
   "source": [
    "# Calculate sex-based percentage of false negatives\n",
    "\n",
    "sex_false_neg = preds.loc[(preds['outcome'] == 1) & (preds['pred'] == 0)]['V9']\n",
    "\n",
    "men_false_neg = sum(sex_false_neg == 1)/sum(data['V9'] == 1)\n",
    "\n",
    "women_false_neg = sum(sex_false_neg == 2)/sum(data['V9'] == 2)"
   ]
  },
  {
   "cell_type": "code",
   "execution_count": 270,
   "metadata": {
    "scrolled": true
   },
   "outputs": [
    {
     "data": {
      "text/plain": [
       "Text(0.5, 1.0, 'False Negative')"
      ]
     },
     "execution_count": 270,
     "metadata": {},
     "output_type": "execute_result"
    },
    {
     "data": {
      "image/png": "[encoded data removed]",
      "text/plain": [
       "<Figure size 432x288 with 1 Axes>"
      ]
     },
     "metadata": {
      "needs_background": "light"
     },
     "output_type": "display_data"
    }
   ],
   "source": [
    "plt.bar(x=['men', 'women'], height=[men_false_neg, women_false_neg])\n",
    "plt.title('False Negative')"
   ]
  },
  {
   "cell_type": "markdown",
   "metadata": {},
   "source": [
    "#### Racial Bias"
   ]
  },
  {
   "cell_type": "code",
   "execution_count": 274,
   "metadata": {
    "scrolled": true
   },
   "outputs": [],
   "source": [
    "racial_false_pos = preds.loc[(preds['outcome'] == 0) & (preds['pred'] == 1)]['V10']\n",
    "\n",
    "white_false_pos = sum(racial_false_pos == 1)/sum(data['V10'] == 1)\n",
    "\n",
    "black_false_pos = sum(racial_false_pos == 2)/sum(data['V10'] == 2)\n",
    "\n",
    "americanindian_false_pos = sum(racial_false_pos == 3)/sum(data['V10'] == 3)\n",
    "\n",
    "asian_false_pos = sum(racial_false_pos == 4)/sum(data['V10'] == 4)\n",
    "\n",
    "other_false_pos = sum(racial_false_pos == 6)/sum(data['V10'] == 6)"
   ]
  },
  {
   "cell_type": "code",
   "execution_count": 275,
   "metadata": {
    "scrolled": false
   },
   "outputs": [
    {
     "data": {
      "text/plain": [
       "Text(0.5, 1.0, 'False Positive')"
      ]
     },
     "execution_count": 275,
     "metadata": {},
     "output_type": "execute_result"
    },
    {
     "data": {
      "image/png": "[encoded data removed]",
      "text/plain": [
       "<Figure size 432x288 with 1 Axes>"
      ]
     },
     "metadata": {
      "needs_background": "light"
     },
     "output_type": "display_data"
    }
   ],
   "source": [
    "plt.bar(x=['white', 'black', 'american indian', 'asian', 'other'], \n",
    "        height=[white_false_pos,\n",
    "               black_false_pos,\n",
    "               americanindian_false_pos,\n",
    "               asian_false_pos,\n",
    "               other_false_pos])\n",
    "plt.title('False Positive')"
   ]
  },
  {
   "cell_type": "code",
   "execution_count": 276,
   "metadata": {
    "scrolled": true
   },
   "outputs": [],
   "source": [
    "racial_false_neg = preds.loc[(preds['outcome'] == 0) & (preds['pred'] == 1)]['V10']\n",
    "\n",
    "white_false_neg = sum(racial_false_pos == 1)/sum(data['V10'] == 1)\n",
    "\n",
    "black_false_neg = sum(racial_false_pos == 2)/sum(data['V10'] == 2)\n",
    "\n",
    "americanindian_false_neg = sum(racial_false_pos == 3)/sum(data['V10'] == 3)\n",
    "\n",
    "asian_false_neg = sum(racial_false_pos == 4)/sum(data['V10'] == 4)\n",
    "\n",
    "other_false_neg = sum(racial_false_pos == 6)/sum(data['V10'] == 6)"
   ]
  },
  {
   "cell_type": "code",
   "execution_count": 277,
   "metadata": {
    "scrolled": false
   },
   "outputs": [
    {
     "data": {
      "text/plain": [
       "<BarContainer object of 5 artists>"
      ]
     },
     "execution_count": 277,
     "metadata": {},
     "output_type": "execute_result"
    },
    {
     "data": {
      "image/png": "[encoded data removed]",
      "text/plain": [
       "<Figure size 432x288 with 1 Axes>"
      ]
     },
     "metadata": {
      "needs_background": "light"
     },
     "output_type": "display_data"
    }
   ],
   "source": [
    "plt.bar(x=['white', 'black', 'american indian', 'asian', 'other'], \n",
    "        height=[white_false_neg,\n",
    "               black_false_neg,\n",
    "               americanindian_false_neg,\n",
    "               asian_false_neg,\n",
    "               other_false_neg])"
   ]
  },
  {
   "cell_type": "markdown",
   "metadata": {},
   "source": [
    "### Model Visualizations"
   ]
  },
  {
   "cell_type": "code",
   "execution_count": 167,
   "metadata": {},
   "outputs": [
    {
     "data": {
      "image/png": "[encoded data removed]",
      "text/plain": [
       "<Figure size 720x720 with 1 Axes>"
      ]
     },
     "metadata": {
      "needs_background": "light"
     },
     "output_type": "display_data"
    },
    {
     "data": {
      "text/plain": [
       "<matplotlib.axes._subplots.AxesSubplot at 0x7fe6e4054128>"
      ]
     },
     "execution_count": 167,
     "metadata": {},
     "output_type": "execute_result"
    }
   ],
   "source": [
    "# Plot \n",
    "\n",
    "plt.figure(figsize=(10,10))\n",
    "viz = ConfusionMatrix(RandomForestClassifier(n_estimators=150, oob_score=True, criterion='entropy', max_depth=100, n_jobs=-1), cmap ='PuBu', fontsize=18)\n",
    "viz.fit(X_train, y_train)\n",
    "viz.score(X_test, y_test)\n",
    "plt.xlabel('Predicted Class', fontsize=18)\n",
    "plt.ylabel('Actual Class', fontsize=18)\n",
    "plt.xticks(ticks = [0.5, 1.5], labels=['Break Parole', 'Complete Parole'], rotation=0)\n",
    "plt.yticks(ticks = [0.7, 1.7], labels=['Complete Parole', 'Break Parole'], rotation=90)\n",
    "viz.poof()"
   ]
  }
 ],
 "metadata": {
  "kernelspec": {
   "display_name": "Python 3",
   "language": "python",
   "name": "python3"
  },
  "language_info": {
   "codemirror_mode": {
    "name": "ipython",
    "version": 3
   },
   "file_extension": ".py",
   "mimetype": "text/x-python",
   "name": "python",
   "nbconvert_exporter": "python",
   "pygments_lexer": "ipython3",
   "version": "3.7.3"
  },
  "toc": {
   "base_numbering": 1,
   "nav_menu": {},
   "number_sections": true,
   "sideBar": true,
   "skip_h1_title": false,
   "title_cell": "Table of Contents",
   "title_sidebar": "Contents",
   "toc_cell": false,
   "toc_position": {},
   "toc_section_display": true,
   "toc_window_display": false
  }
 },
 "nbformat": 4,
 "nbformat_minor": 2
}
