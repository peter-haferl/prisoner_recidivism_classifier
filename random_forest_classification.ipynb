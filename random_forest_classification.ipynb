{
 "cells": [
  {
   "cell_type": "markdown",
   "metadata": {},
   "source": [
    "## Data Import "
   ]
  },
  {
   "cell_type": "code",
   "execution_count": 1,
   "metadata": {},
   "outputs": [],
   "source": [
    "import pandas as pd\n",
    "import numpy as np\n",
    "import tqdm\n",
    "import missingno as msno\n",
    "from sklearn.ensemble import RandomForestClassifier\n",
    "from sklearn.metrics import classification_report\n",
    "from sklearn.metrics import confusion_matrix\n",
    "from sklearn.model_selection import train_test_split, GridSearchCV\n",
    "from sklearn.metrics import roc_curve\n",
    "from sklearn.metrics import roc_auc_score\n",
    "from sklearn.pipeline import Pipeline\n",
    "from yellowbrick.classifier import ClassificationReport\n",
    "from yellowbrick.classifier import ConfusionMatrix\n",
    "from yellowbrick.classifier import ROCAUC\n",
    "from sklearn.externals import joblib\n",
    "from scipy.stats import chi2_contingency\n",
    "from sklearn.pipeline import Pipeline\n",
    "from sklearn.preprocessing import StandardScaler\n",
    "from sklearn.svm import LinearSVC\n",
    "import matplotlib.pyplot as plt\n",
    "import warnings "
   ]
  },
  {
   "cell_type": "markdown",
   "metadata": {},
   "source": [
    "data = pd.read_csv('da26521-0003.tsv', sep='\\t', header=0)\n",
    "\n",
    "def replace_missing(x):\n",
    "    \n",
    "    if len(str(x)) == 1 and x in [8, 5, 9]:\n",
    "            return np.nan\n",
    "        \n",
    "    if len(str(x)) == 2 and x in [88, 95, 98, 99, 97]:\n",
    "            return np.nan\n",
    "        \n",
    "    if len(str(x)) == 3 and x in [888, 995, 998, 999, 98.0]:\n",
    "            return np.nan\n",
    "        \n",
    "    if len(str(x)) == 4 and x in [88.8, 99.5, 99.8, 8888, 9995, 9998, 9999]:\n",
    "            return np.nan\n",
    "        \n",
    "    if len(str(x)) == 5 and x in [888.8, 999.5, 999.8, 88888, 99995, 99998, 99999]:\n",
    "            return np.nan\n",
    "        \n",
    "    if len(str(x)) == 6 and x in [8888.8, 9999.5, 9999.8]:\n",
    "            return np.nan    \n",
    "    \n",
    "    else:\n",
    "        return x\n",
    "\n",
    "data = data.applymap(lambda x: replace_missing(x)).copy()\n",
    "\n",
    "def list_of_absent_data_columns(data, ratio=0.2):\n",
    "    \"\"\"returns list of columns whose missing values make up \\\n",
    "    more than a set ratio (default is half) of the data\"\"\"\n",
    "    variables_list = list(data.columns)\n",
    "    missing_list = []\n",
    "    for variable in variables_list:\n",
    "        missing_ratio = sum(data[variable].isna()) / len(data)\n",
    "        if missing_ratio > ratio:\n",
    "            missing_list.append(variable)\n",
    "    return missing_list\n",
    "\n",
    "absent_columns = list_of_absent_data_columns(data)\n",
    "\n",
    "data.drop(columns=absent_columns, inplace=True)\n",
    "\n",
    "def missing_vis(data):\n",
    "    \"\"\"Returns 4 graphics: bar chart, distributions, heatmap \\\n",
    "    (of correlation between nulls), and dendogram\"\"\"\n",
    "    msno.bar(data);\n",
    "    msno.matrix(data);\n",
    "    msno.heatmap(data);\n",
    "    msno.dendrogram(data);\n",
    "\n",
    "\n",
    "data.shape\n",
    "\n",
    "singular_variables = []\n",
    "for col in data.columns:\n",
    "#     print(col, len(set(prison_data[col])))\n",
    "    if data[col].nunique() == 1:\n",
    "        singular_variables.append(col)\n",
    "print(singular_variables)\n",
    "\n",
    "\n",
    "data.drop(columns = singular_variables, inplace=True)\n",
    "\n",
    "data.columns\n",
    "\n",
    "data.head()\n",
    "\n",
    "data.shape\n",
    "\n",
    "data = data.dropna()\n",
    "\n",
    "data_clean = data[data['V55'] != 10].copy()\n",
    "\n",
    "data_clean['outcome'] = data_clean['V55'].map(lambda x: 1 if x == 1 else 0)\n",
    "\n",
    "data_clean['outcome'].value_counts()\n",
    "\n",
    "data_clean.drop(columns='V55', inplace=True)\n",
    "\n",
    "data_clean.drop(columns=['V96', 'V97', 'V98', 'V99'], inplace=True)\n",
    "\n",
    "data_clean.columns\n",
    "\n",
    "data_clean.shape\n",
    "\n",
    "variable_names = {'V4': 'case_id',\n",
    "                  'V8': 'birth_year',\n",
    "                  'V9': 'sex',\n",
    "                  'V10': 'race',\n",
    "                  'V15': 'admission_year',\n",
    "                  'V24': 'prior_jail_time',\n",
    "                  'V25': 'prior_prison_time',\n",
    "                  'V26': 'offense_1',\n",
    "                  'V32': 'offense_longest_sentence',\n",
    "                  'V33': 'length_longest_sentence',\n",
    "                  'V34': 'total_max_sentence_length',\n",
    "                  'V46': 'year_prison_release',\n",
    "                  'V48': 'custody_agency_1',\n",
    "                  'V51': 'release_type',\n",
    "                  'V56': 'release_supervision_status',\n",
    "                  'V57': 'age_admission',\n",
    "                  'V58': 'age_prison_release',\n",
    "                  'V59': 'age_parole_release',\n",
    "                  'V62': 'time_served_current_admission',\n",
    "                  'V67': 'time_served_parole',\n",
    "                  'V70': 'total_max_sentence_indicator',\n",
    "                  'V71': 'number_of_offenses_indicator',\n",
    "                  'V94': 'state'}\n",
    "variable_categories = {'key': ['case_id'],\n",
    "                       'datetime': ['birth_year', 'admission_year', 'year_prison_release'],\n",
    "                       'categorical': ['sex', 'race', 'offense_1', 'offense_longest_sentence', 'custody_agency_1',\n",
    "                                       'release_type', 'release_supervision_status', 'number_of_offenses_indicator',\n",
    "                                       'state'],\n",
    "                       'numeric': ['prior_jail_time', 'prior_prison_time', 'age_admission', 'age_parole_release',\n",
    "                                   'time_served_current_admission', 'time_served_parole'],\n",
    "                       'mixed_numeric': ['length_longest_sentence', 'total_max_sentence_length',\n",
    "                                         'total_max_sentence_indicator']}\n",
    "\n",
    "descriptive_columns = list(variable_names.values())\n",
    "descriptive_columns.append('outcome')\n",
    "data_clean.columns = descriptive_columns\n",
    "data_clean = pd.get_dummies(data_clean, columns=variable_categories['categorical'], \n",
    "                            drop_first=True)\n",
    "\n",
    "data_clean.drop(columns=['race_2.0', 'race_3.0', 'race_4.0', 'race_6.0', 'sex_2.0'], inplace=True)"
   ]
  },
  {
   "cell_type": "code",
   "execution_count": 2,
   "metadata": {},
   "outputs": [],
   "source": [
    "data_clean = pd.read_pickle('data_clean.pkl')"
   ]
  },
  {
   "cell_type": "code",
   "execution_count": 4,
   "metadata": {},
   "outputs": [
    {
     "data": {
      "text/html": [
       "<div>\n",
       "<style scoped>\n",
       "    .dataframe tbody tr th:only-of-type {\n",
       "        vertical-align: middle;\n",
       "    }\n",
       "\n",
       "    .dataframe tbody tr th {\n",
       "        vertical-align: top;\n",
       "    }\n",
       "\n",
       "    .dataframe thead th {\n",
       "        text-align: right;\n",
       "    }\n",
       "</style>\n",
       "<table border=\"1\" class=\"dataframe\">\n",
       "  <thead>\n",
       "    <tr style=\"text-align: right;\">\n",
       "      <th></th>\n",
       "      <th>case_id</th>\n",
       "      <th>birth_year</th>\n",
       "      <th>admission_year</th>\n",
       "      <th>length_longest_sentence</th>\n",
       "      <th>total_max_sentence_length</th>\n",
       "      <th>year_prison_release</th>\n",
       "      <th>age_admission</th>\n",
       "      <th>age_prison_release</th>\n",
       "      <th>age_parole_release</th>\n",
       "      <th>time_served_current_admission</th>\n",
       "      <th>...</th>\n",
       "      <th>state_40.0</th>\n",
       "      <th>state_41.0</th>\n",
       "      <th>state_47.0</th>\n",
       "      <th>state_48.0</th>\n",
       "      <th>state_49.0</th>\n",
       "      <th>state_51.0</th>\n",
       "      <th>state_53.0</th>\n",
       "      <th>state_54.0</th>\n",
       "      <th>state_55.0</th>\n",
       "      <th>state_58.0</th>\n",
       "    </tr>\n",
       "  </thead>\n",
       "  <tbody>\n",
       "    <tr>\n",
       "      <th>0</th>\n",
       "      <td>1.0</td>\n",
       "      <td>1949.0</td>\n",
       "      <td>2002.0</td>\n",
       "      <td>120.0</td>\n",
       "      <td>120.0</td>\n",
       "      <td>2003.0</td>\n",
       "      <td>53.4</td>\n",
       "      <td>54.6</td>\n",
       "      <td>55.6</td>\n",
       "      <td>14.2</td>\n",
       "      <td>...</td>\n",
       "      <td>0</td>\n",
       "      <td>0</td>\n",
       "      <td>0</td>\n",
       "      <td>0</td>\n",
       "      <td>0</td>\n",
       "      <td>0</td>\n",
       "      <td>0</td>\n",
       "      <td>0</td>\n",
       "      <td>0</td>\n",
       "      <td>0</td>\n",
       "    </tr>\n",
       "    <tr>\n",
       "      <th>1</th>\n",
       "      <td>2.0</td>\n",
       "      <td>1948.0</td>\n",
       "      <td>2000.0</td>\n",
       "      <td>180.0</td>\n",
       "      <td>180.0</td>\n",
       "      <td>2004.0</td>\n",
       "      <td>51.4</td>\n",
       "      <td>55.1</td>\n",
       "      <td>55.6</td>\n",
       "      <td>44.8</td>\n",
       "      <td>...</td>\n",
       "      <td>0</td>\n",
       "      <td>0</td>\n",
       "      <td>0</td>\n",
       "      <td>0</td>\n",
       "      <td>0</td>\n",
       "      <td>0</td>\n",
       "      <td>0</td>\n",
       "      <td>0</td>\n",
       "      <td>0</td>\n",
       "      <td>0</td>\n",
       "    </tr>\n",
       "    <tr>\n",
       "      <th>2</th>\n",
       "      <td>3.0</td>\n",
       "      <td>1943.0</td>\n",
       "      <td>2000.0</td>\n",
       "      <td>180.0</td>\n",
       "      <td>180.0</td>\n",
       "      <td>2004.0</td>\n",
       "      <td>57.0</td>\n",
       "      <td>60.5</td>\n",
       "      <td>61.1</td>\n",
       "      <td>41.4</td>\n",
       "      <td>...</td>\n",
       "      <td>0</td>\n",
       "      <td>0</td>\n",
       "      <td>0</td>\n",
       "      <td>0</td>\n",
       "      <td>0</td>\n",
       "      <td>0</td>\n",
       "      <td>0</td>\n",
       "      <td>0</td>\n",
       "      <td>0</td>\n",
       "      <td>0</td>\n",
       "    </tr>\n",
       "    <tr>\n",
       "      <th>3</th>\n",
       "      <td>4.0</td>\n",
       "      <td>1948.0</td>\n",
       "      <td>1984.0</td>\n",
       "      <td>240.0</td>\n",
       "      <td>240.0</td>\n",
       "      <td>1993.0</td>\n",
       "      <td>36.0</td>\n",
       "      <td>44.5</td>\n",
       "      <td>55.9</td>\n",
       "      <td>102.0</td>\n",
       "      <td>...</td>\n",
       "      <td>0</td>\n",
       "      <td>0</td>\n",
       "      <td>0</td>\n",
       "      <td>0</td>\n",
       "      <td>0</td>\n",
       "      <td>0</td>\n",
       "      <td>0</td>\n",
       "      <td>0</td>\n",
       "      <td>0</td>\n",
       "      <td>0</td>\n",
       "    </tr>\n",
       "    <tr>\n",
       "      <th>5</th>\n",
       "      <td>6.0</td>\n",
       "      <td>1950.0</td>\n",
       "      <td>1997.0</td>\n",
       "      <td>300.0</td>\n",
       "      <td>300.0</td>\n",
       "      <td>2003.0</td>\n",
       "      <td>47.7</td>\n",
       "      <td>53.7</td>\n",
       "      <td>54.4</td>\n",
       "      <td>72.0</td>\n",
       "      <td>...</td>\n",
       "      <td>0</td>\n",
       "      <td>0</td>\n",
       "      <td>0</td>\n",
       "      <td>0</td>\n",
       "      <td>0</td>\n",
       "      <td>0</td>\n",
       "      <td>0</td>\n",
       "      <td>0</td>\n",
       "      <td>0</td>\n",
       "      <td>0</td>\n",
       "    </tr>\n",
       "  </tbody>\n",
       "</table>\n",
       "<p>5 rows × 264 columns</p>\n",
       "</div>"
      ],
      "text/plain": [
       "   case_id  birth_year  admission_year  length_longest_sentence  \\\n",
       "0      1.0      1949.0          2002.0                    120.0   \n",
       "1      2.0      1948.0          2000.0                    180.0   \n",
       "2      3.0      1943.0          2000.0                    180.0   \n",
       "3      4.0      1948.0          1984.0                    240.0   \n",
       "5      6.0      1950.0          1997.0                    300.0   \n",
       "\n",
       "   total_max_sentence_length  year_prison_release  age_admission  \\\n",
       "0                      120.0               2003.0           53.4   \n",
       "1                      180.0               2004.0           51.4   \n",
       "2                      180.0               2004.0           57.0   \n",
       "3                      240.0               1993.0           36.0   \n",
       "5                      300.0               2003.0           47.7   \n",
       "\n",
       "   age_prison_release  age_parole_release  time_served_current_admission  ...  \\\n",
       "0                54.6                55.6                           14.2  ...   \n",
       "1                55.1                55.6                           44.8  ...   \n",
       "2                60.5                61.1                           41.4  ...   \n",
       "3                44.5                55.9                          102.0  ...   \n",
       "5                53.7                54.4                           72.0  ...   \n",
       "\n",
       "   state_40.0  state_41.0  state_47.0  state_48.0  state_49.0  state_51.0  \\\n",
       "0           0           0           0           0           0           0   \n",
       "1           0           0           0           0           0           0   \n",
       "2           0           0           0           0           0           0   \n",
       "3           0           0           0           0           0           0   \n",
       "5           0           0           0           0           0           0   \n",
       "\n",
       "   state_53.0  state_54.0  state_55.0  state_58.0  \n",
       "0           0           0           0           0  \n",
       "1           0           0           0           0  \n",
       "2           0           0           0           0  \n",
       "3           0           0           0           0  \n",
       "5           0           0           0           0  \n",
       "\n",
       "[5 rows x 264 columns]"
      ]
     },
     "execution_count": 4,
     "metadata": {},
     "output_type": "execute_result"
    }
   ],
   "source": [
    "data_clean.head()"
   ]
  },
  {
   "cell_type": "code",
   "execution_count": 56,
   "metadata": {},
   "outputs": [],
   "source": [
    "data_clean.drop(columns=['case_id', 'time_served_parole', 'age_parole_release'], inplace=True)"
   ]
  },
  {
   "cell_type": "markdown",
   "metadata": {},
   "source": [
    "## Random Forest Model"
   ]
  },
  {
   "cell_type": "code",
   "execution_count": 57,
   "metadata": {},
   "outputs": [],
   "source": [
    "X = data_clean.drop(columns='outcome')\n",
    "y = data_clean['outcome']"
   ]
  },
  {
   "cell_type": "code",
   "execution_count": 58,
   "metadata": {},
   "outputs": [],
   "source": [
    "X_train, X_test, y_train, y_test = train_test_split(X, y)"
   ]
  },
  {
   "cell_type": "code",
   "execution_count": 59,
   "metadata": {},
   "outputs": [],
   "source": [
    "# yellowbrick.ClassBalance().fit(y_train);"
   ]
  },
  {
   "cell_type": "markdown",
   "metadata": {},
   "source": [
    "### Random Forest Classifier Training"
   ]
  },
  {
   "cell_type": "markdown",
   "metadata": {},
   "source": [
    "#### Grid Search for Params"
   ]
  },
  {
   "cell_type": "code",
   "execution_count": 60,
   "metadata": {},
   "outputs": [],
   "source": [
    "# Set parameters for GridSearchCV to investigate\n",
    "\n",
    "params = {\n",
    "    'max_features' : ['auto', 'log2'],\n",
    "    'criterion' : ['gini', 'entropy'],\n",
    "    'n_estimators' : [150],\n",
    "    'max_depth' : [1, 10, 100, 1000, None]\n",
    "}"
   ]
  },
  {
   "cell_type": "code",
   "execution_count": 61,
   "metadata": {},
   "outputs": [],
   "source": [
    "# Define GridSearchCV Object and Parameters\n",
    "\n",
    "search = GridSearchCV(estimator=RandomForestClassifier(),\n",
    "                     scoring='accuracy',\n",
    "                     param_grid=params,\n",
    "                     cv=5,\n",
    "                     return_train_score=True,\n",
    "                     verbose=True,\n",
    "                     n_jobs=-1)"
   ]
  },
  {
   "cell_type": "code",
   "execution_count": 62,
   "metadata": {
    "scrolled": true
   },
   "outputs": [],
   "source": [
    "# Run the GridSearchCV\n",
    "\n",
    "warnings.simplefilter('ignore')\n",
    "\n",
    "# search.fit(X_train, y_train)"
   ]
  },
  {
   "cell_type": "code",
   "execution_count": 63,
   "metadata": {},
   "outputs": [],
   "source": [
    "# Save GridSearchCV results\n",
    "\n",
    "filename = 'grid_search_rf.sav'\n",
    "# joblib.dump(search, filename)"
   ]
  },
  {
   "cell_type": "code",
   "execution_count": 64,
   "metadata": {},
   "outputs": [
    {
     "ename": "AttributeError",
     "evalue": "'GridSearchCV' object has no attribute 'best_params_'",
     "output_type": "error",
     "traceback": [
      "\u001b[0;31m---------------------------------------------------------------------------\u001b[0m",
      "\u001b[0;31mAttributeError\u001b[0m                            Traceback (most recent call last)",
      "\u001b[0;32m<ipython-input-64-4f31be9fefc2>\u001b[0m in \u001b[0;36m<module>\u001b[0;34m\u001b[0m\n\u001b[1;32m      2\u001b[0m \u001b[0;34m\u001b[0m\u001b[0m\n\u001b[1;32m      3\u001b[0m \u001b[0msearch\u001b[0m \u001b[0;34m=\u001b[0m \u001b[0mjoblib\u001b[0m\u001b[0;34m.\u001b[0m\u001b[0mload\u001b[0m\u001b[0;34m(\u001b[0m\u001b[0;34m'grid_search_rf.sav'\u001b[0m\u001b[0;34m)\u001b[0m\u001b[0;34m\u001b[0m\u001b[0;34m\u001b[0m\u001b[0m\n\u001b[0;32m----> 4\u001b[0;31m \u001b[0mprint\u001b[0m\u001b[0;34m(\u001b[0m\u001b[0msearch\u001b[0m\u001b[0;34m.\u001b[0m\u001b[0mbest_params_\u001b[0m\u001b[0;34m,\u001b[0m \u001b[0msearch\u001b[0m\u001b[0;34m.\u001b[0m\u001b[0mbest_score_\u001b[0m\u001b[0;34m)\u001b[0m\u001b[0;34m\u001b[0m\u001b[0;34m\u001b[0m\u001b[0m\n\u001b[0m",
      "\u001b[0;31mAttributeError\u001b[0m: 'GridSearchCV' object has no attribute 'best_params_'"
     ]
    }
   ],
   "source": [
    "# Find best parameters to use in model \n",
    "\n",
    "search = joblib.load('grid_search_rf.sav')\n",
    "print(search.best_params_, search.best_score_)"
   ]
  },
  {
   "cell_type": "markdown",
   "metadata": {},
   "source": [
    "#### Random Forest Model"
   ]
  },
  {
   "cell_type": "code",
   "execution_count": 65,
   "metadata": {},
   "outputs": [],
   "source": [
    "# Set RandomForest model based on GridSearchCV results\n",
    "\n",
    "rfc = RandomForestClassifier(criterion='entropy', max_depth=100, max_features='auto', n_estimators=150, n_jobs=-1)"
   ]
  },
  {
   "cell_type": "code",
   "execution_count": 66,
   "metadata": {
    "scrolled": true
   },
   "outputs": [
    {
     "data": {
      "text/plain": [
       "RandomForestClassifier(bootstrap=True, class_weight=None, criterion='entropy',\n",
       "            max_depth=100, max_features='auto', max_leaf_nodes=None,\n",
       "            min_impurity_decrease=0.0, min_impurity_split=None,\n",
       "            min_samples_leaf=1, min_samples_split=2,\n",
       "            min_weight_fraction_leaf=0.0, n_estimators=150, n_jobs=-1,\n",
       "            oob_score=False, random_state=None, verbose=0,\n",
       "            warm_start=False)"
      ]
     },
     "execution_count": 66,
     "metadata": {},
     "output_type": "execute_result"
    }
   ],
   "source": [
    "# Fit model\n",
    "\n",
    "rfc.fit(X_train, y_train)"
   ]
  },
  {
   "cell_type": "code",
   "execution_count": 67,
   "metadata": {},
   "outputs": [],
   "source": [
    "features = pd.DataFrame([rfc.feature_importances_, data_clean.columns]).T"
   ]
  },
  {
   "cell_type": "code",
   "execution_count": 68,
   "metadata": {},
   "outputs": [],
   "source": [
    "features = features.set_index(keys=features[1]).drop(columns=[1])"
   ]
  },
  {
   "cell_type": "code",
   "execution_count": 70,
   "metadata": {},
   "outputs": [
    {
     "data": {
      "text/html": [
       "<div>\n",
       "<style scoped>\n",
       "    .dataframe tbody tr th:only-of-type {\n",
       "        vertical-align: middle;\n",
       "    }\n",
       "\n",
       "    .dataframe tbody tr th {\n",
       "        vertical-align: top;\n",
       "    }\n",
       "\n",
       "    .dataframe thead th {\n",
       "        text-align: right;\n",
       "    }\n",
       "</style>\n",
       "<table border=\"1\" class=\"dataframe\">\n",
       "  <thead>\n",
       "    <tr style=\"text-align: right;\">\n",
       "      <th></th>\n",
       "      <th>0</th>\n",
       "    </tr>\n",
       "    <tr>\n",
       "      <th>1</th>\n",
       "      <th></th>\n",
       "    </tr>\n",
       "  </thead>\n",
       "  <tbody>\n",
       "    <tr>\n",
       "      <th>time_served_current_admission</th>\n",
       "      <td>0.134046</td>\n",
       "    </tr>\n",
       "    <tr>\n",
       "      <th>age_admission</th>\n",
       "      <td>0.11077</td>\n",
       "    </tr>\n",
       "    <tr>\n",
       "      <th>age_prison_release</th>\n",
       "      <td>0.110445</td>\n",
       "    </tr>\n",
       "    <tr>\n",
       "      <th>year_prison_release</th>\n",
       "      <td>0.100586</td>\n",
       "    </tr>\n",
       "    <tr>\n",
       "      <th>admission_year</th>\n",
       "      <td>0.0864629</td>\n",
       "    </tr>\n",
       "    <tr>\n",
       "      <th>birth_year</th>\n",
       "      <td>0.0762454</td>\n",
       "    </tr>\n",
       "    <tr>\n",
       "      <th>length_longest_sentence</th>\n",
       "      <td>0.0542993</td>\n",
       "    </tr>\n",
       "    <tr>\n",
       "      <th>total_max_sentence_length</th>\n",
       "      <td>0.0497771</td>\n",
       "    </tr>\n",
       "    <tr>\n",
       "      <th>number_of_offenses_indicator_2</th>\n",
       "      <td>0.0483515</td>\n",
       "    </tr>\n",
       "    <tr>\n",
       "      <th>custody_agency_1_12.0</th>\n",
       "      <td>0.0213494</td>\n",
       "    </tr>\n",
       "    <tr>\n",
       "      <th>release_type_4.0</th>\n",
       "      <td>0.0189933</td>\n",
       "    </tr>\n",
       "    <tr>\n",
       "      <th>state_47.0</th>\n",
       "      <td>0.0143492</td>\n",
       "    </tr>\n",
       "    <tr>\n",
       "      <th>state_26.0</th>\n",
       "      <td>0.013022</td>\n",
       "    </tr>\n",
       "    <tr>\n",
       "      <th>release_supervision_status_4.0</th>\n",
       "      <td>0.0123754</td>\n",
       "    </tr>\n",
       "    <tr>\n",
       "      <th>state_31.0</th>\n",
       "      <td>0.00949965</td>\n",
       "    </tr>\n",
       "    <tr>\n",
       "      <th>release_type_3.0</th>\n",
       "      <td>0.00692959</td>\n",
       "    </tr>\n",
       "    <tr>\n",
       "      <th>state_54.0</th>\n",
       "      <td>0.00642674</td>\n",
       "    </tr>\n",
       "    <tr>\n",
       "      <th>state_6.0</th>\n",
       "      <td>0.00609274</td>\n",
       "    </tr>\n",
       "    <tr>\n",
       "      <th>state_22.0</th>\n",
       "      <td>0.00590437</td>\n",
       "    </tr>\n",
       "    <tr>\n",
       "      <th>state_49.0</th>\n",
       "      <td>0.00538235</td>\n",
       "    </tr>\n",
       "    <tr>\n",
       "      <th>release_supervision_status_3.0</th>\n",
       "      <td>0.00458464</td>\n",
       "    </tr>\n",
       "    <tr>\n",
       "      <th>offense_1_360.0</th>\n",
       "      <td>0.0027458</td>\n",
       "    </tr>\n",
       "    <tr>\n",
       "      <th>offense_longest_sentence_360.0</th>\n",
       "      <td>0.00262623</td>\n",
       "    </tr>\n",
       "    <tr>\n",
       "      <th>offense_longest_sentence_180.0</th>\n",
       "      <td>0.00257145</td>\n",
       "    </tr>\n",
       "    <tr>\n",
       "      <th>offense_1_180.0</th>\n",
       "      <td>0.00254818</td>\n",
       "    </tr>\n",
       "    <tr>\n",
       "      <th>offense_longest_sentence_440.0</th>\n",
       "      <td>0.00249603</td>\n",
       "    </tr>\n",
       "    <tr>\n",
       "      <th>offense_longest_sentence_400.0</th>\n",
       "      <td>0.00236841</td>\n",
       "    </tr>\n",
       "    <tr>\n",
       "      <th>offense_1_400.0</th>\n",
       "      <td>0.002211</td>\n",
       "    </tr>\n",
       "    <tr>\n",
       "      <th>offense_longest_sentence_111.0</th>\n",
       "      <td>0.00206395</td>\n",
       "    </tr>\n",
       "    <tr>\n",
       "      <th>offense_1_111.0</th>\n",
       "      <td>0.00201327</td>\n",
       "    </tr>\n",
       "    <tr>\n",
       "      <th>...</th>\n",
       "      <td>...</td>\n",
       "    </tr>\n",
       "    <tr>\n",
       "      <th>offense_longest_sentence_510.0</th>\n",
       "      <td>7.34026e-07</td>\n",
       "    </tr>\n",
       "    <tr>\n",
       "      <th>offense_1_430.0</th>\n",
       "      <td>7.04216e-07</td>\n",
       "    </tr>\n",
       "    <tr>\n",
       "      <th>offense_longest_sentence_490.0</th>\n",
       "      <td>6.91656e-07</td>\n",
       "    </tr>\n",
       "    <tr>\n",
       "      <th>offense_longest_sentence_310.0</th>\n",
       "      <td>5.306e-07</td>\n",
       "    </tr>\n",
       "    <tr>\n",
       "      <th>offense_1_500.0</th>\n",
       "      <td>4.99888e-07</td>\n",
       "    </tr>\n",
       "    <tr>\n",
       "      <th>offense_1_230.0</th>\n",
       "      <td>4.40688e-07</td>\n",
       "    </tr>\n",
       "    <tr>\n",
       "      <th>offense_longest_sentence_500.0</th>\n",
       "      <td>4.03576e-07</td>\n",
       "    </tr>\n",
       "    <tr>\n",
       "      <th>offense_1_692.0</th>\n",
       "      <td>3.52546e-07</td>\n",
       "    </tr>\n",
       "    <tr>\n",
       "      <th>offense_1_121.0</th>\n",
       "      <td>3.44107e-07</td>\n",
       "    </tr>\n",
       "    <tr>\n",
       "      <th>offense_longest_sentence_430.0</th>\n",
       "      <td>3.146e-07</td>\n",
       "    </tr>\n",
       "    <tr>\n",
       "      <th>offense_longest_sentence_121.0</th>\n",
       "      <td>2.4214e-07</td>\n",
       "    </tr>\n",
       "    <tr>\n",
       "      <th>offense_longest_sentence_80.0</th>\n",
       "      <td>1.98855e-07</td>\n",
       "    </tr>\n",
       "    <tr>\n",
       "      <th>offense_1_460.0</th>\n",
       "      <td>1.56643e-07</td>\n",
       "    </tr>\n",
       "    <tr>\n",
       "      <th>offense_longest_sentence_460.0</th>\n",
       "      <td>1.24998e-07</td>\n",
       "    </tr>\n",
       "    <tr>\n",
       "      <th>offense_longest_sentence_692.0</th>\n",
       "      <td>6.82644e-08</td>\n",
       "    </tr>\n",
       "    <tr>\n",
       "      <th>offense_1_80.0</th>\n",
       "      <td>5.37211e-08</td>\n",
       "    </tr>\n",
       "    <tr>\n",
       "      <th>offense_longest_sentence_290.0</th>\n",
       "      <td>5.70183e-09</td>\n",
       "    </tr>\n",
       "    <tr>\n",
       "      <th>offense_1_290.0</th>\n",
       "      <td>5.65734e-09</td>\n",
       "    </tr>\n",
       "    <tr>\n",
       "      <th>offense_1_71.0</th>\n",
       "      <td>0</td>\n",
       "    </tr>\n",
       "    <tr>\n",
       "      <th>offense_1_41.0</th>\n",
       "      <td>0</td>\n",
       "    </tr>\n",
       "    <tr>\n",
       "      <th>offense_longest_sentence_41.0</th>\n",
       "      <td>0</td>\n",
       "    </tr>\n",
       "    <tr>\n",
       "      <th>offense_longest_sentence_170.0</th>\n",
       "      <td>0</td>\n",
       "    </tr>\n",
       "    <tr>\n",
       "      <th>offense_1_345.0</th>\n",
       "      <td>0</td>\n",
       "    </tr>\n",
       "    <tr>\n",
       "      <th>offense_longest_sentence_350.0</th>\n",
       "      <td>0</td>\n",
       "    </tr>\n",
       "    <tr>\n",
       "      <th>offense_longest_sentence_71.0</th>\n",
       "      <td>0</td>\n",
       "    </tr>\n",
       "    <tr>\n",
       "      <th>offense_1_170.0</th>\n",
       "      <td>0</td>\n",
       "    </tr>\n",
       "    <tr>\n",
       "      <th>offense_1_350.0</th>\n",
       "      <td>0</td>\n",
       "    </tr>\n",
       "    <tr>\n",
       "      <th>offense_longest_sentence_345.0</th>\n",
       "      <td>0</td>\n",
       "    </tr>\n",
       "    <tr>\n",
       "      <th>custody_agency_1_6.0</th>\n",
       "      <td>0</td>\n",
       "    </tr>\n",
       "    <tr>\n",
       "      <th>state_58.0</th>\n",
       "      <td>None</td>\n",
       "    </tr>\n",
       "  </tbody>\n",
       "</table>\n",
       "<p>261 rows × 1 columns</p>\n",
       "</div>"
      ],
      "text/plain": [
       "                                          0\n",
       "1                                          \n",
       "time_served_current_admission      0.134046\n",
       "age_admission                       0.11077\n",
       "age_prison_release                 0.110445\n",
       "year_prison_release                0.100586\n",
       "admission_year                    0.0864629\n",
       "birth_year                        0.0762454\n",
       "length_longest_sentence           0.0542993\n",
       "total_max_sentence_length         0.0497771\n",
       "number_of_offenses_indicator_2    0.0483515\n",
       "custody_agency_1_12.0             0.0213494\n",
       "release_type_4.0                  0.0189933\n",
       "state_47.0                        0.0143492\n",
       "state_26.0                         0.013022\n",
       "release_supervision_status_4.0    0.0123754\n",
       "state_31.0                       0.00949965\n",
       "release_type_3.0                 0.00692959\n",
       "state_54.0                       0.00642674\n",
       "state_6.0                        0.00609274\n",
       "state_22.0                       0.00590437\n",
       "state_49.0                       0.00538235\n",
       "release_supervision_status_3.0   0.00458464\n",
       "offense_1_360.0                   0.0027458\n",
       "offense_longest_sentence_360.0   0.00262623\n",
       "offense_longest_sentence_180.0   0.00257145\n",
       "offense_1_180.0                  0.00254818\n",
       "offense_longest_sentence_440.0   0.00249603\n",
       "offense_longest_sentence_400.0   0.00236841\n",
       "offense_1_400.0                    0.002211\n",
       "offense_longest_sentence_111.0   0.00206395\n",
       "offense_1_111.0                  0.00201327\n",
       "...                                     ...\n",
       "offense_longest_sentence_510.0  7.34026e-07\n",
       "offense_1_430.0                 7.04216e-07\n",
       "offense_longest_sentence_490.0  6.91656e-07\n",
       "offense_longest_sentence_310.0    5.306e-07\n",
       "offense_1_500.0                 4.99888e-07\n",
       "offense_1_230.0                 4.40688e-07\n",
       "offense_longest_sentence_500.0  4.03576e-07\n",
       "offense_1_692.0                 3.52546e-07\n",
       "offense_1_121.0                 3.44107e-07\n",
       "offense_longest_sentence_430.0    3.146e-07\n",
       "offense_longest_sentence_121.0   2.4214e-07\n",
       "offense_longest_sentence_80.0   1.98855e-07\n",
       "offense_1_460.0                 1.56643e-07\n",
       "offense_longest_sentence_460.0  1.24998e-07\n",
       "offense_longest_sentence_692.0  6.82644e-08\n",
       "offense_1_80.0                  5.37211e-08\n",
       "offense_longest_sentence_290.0  5.70183e-09\n",
       "offense_1_290.0                 5.65734e-09\n",
       "offense_1_71.0                            0\n",
       "offense_1_41.0                            0\n",
       "offense_longest_sentence_41.0             0\n",
       "offense_longest_sentence_170.0            0\n",
       "offense_1_345.0                           0\n",
       "offense_longest_sentence_350.0            0\n",
       "offense_longest_sentence_71.0             0\n",
       "offense_1_170.0                           0\n",
       "offense_1_350.0                           0\n",
       "offense_longest_sentence_345.0            0\n",
       "custody_agency_1_6.0                      0\n",
       "state_58.0                             None\n",
       "\n",
       "[261 rows x 1 columns]"
      ]
     },
     "execution_count": 70,
     "metadata": {},
     "output_type": "execute_result"
    }
   ],
   "source": [
    "features.sort_values(by=0, ascending=False)"
   ]
  },
  {
   "cell_type": "code",
   "execution_count": null,
   "metadata": {},
   "outputs": [],
   "source": []
  },
  {
   "cell_type": "code",
   "execution_count": 72,
   "metadata": {},
   "outputs": [],
   "source": [
    "# Get train predictions from model\n",
    "\n",
    "y_train_pred = rfc.predict(X_train)"
   ]
  },
  {
   "cell_type": "code",
   "execution_count": 73,
   "metadata": {},
   "outputs": [
    {
     "data": {
      "text/plain": [
       "array([[59860,     9],\n",
       "       [   18, 60648]])"
      ]
     },
     "execution_count": 73,
     "metadata": {},
     "output_type": "execute_result"
    }
   ],
   "source": [
    "# Analyze results via confustion matrix\n",
    "\n",
    "confusion_matrix(y_train, y_train_pred)"
   ]
  },
  {
   "cell_type": "code",
   "execution_count": 74,
   "metadata": {
    "scrolled": true
   },
   "outputs": [
    {
     "name": "stdout",
     "output_type": "stream",
     "text": [
      "              precision    recall  f1-score   support\n",
      "\n",
      "           0       1.00      1.00      1.00     59869\n",
      "           1       1.00      1.00      1.00     60666\n",
      "\n",
      "   micro avg       1.00      1.00      1.00    120535\n",
      "   macro avg       1.00      1.00      1.00    120535\n",
      "weighted avg       1.00      1.00      1.00    120535\n",
      "\n"
     ]
    }
   ],
   "source": [
    "# Analyze results via precision/recall/fl_score\n",
    "\n",
    "print(classification_report(y_train, y_train_pred))"
   ]
  },
  {
   "cell_type": "code",
   "execution_count": 75,
   "metadata": {},
   "outputs": [
    {
     "data": {
      "image/png": "[encoded data removed]",
      "text/plain": [
       "<Figure size 432x288 with 1 Axes>"
      ]
     },
     "metadata": {
      "needs_background": "light"
     },
     "output_type": "display_data"
    }
   ],
   "source": [
    "# Graph ROC curve for model\n",
    "\n",
    "probs_train = rfc.predict_proba(X_train)[:,1]\n",
    "\n",
    "fpr, tpr, thresholds = roc_curve(y_train, probs_train)\n",
    "# Plot no skill\n",
    "plt.plot([0, 1], [0, 1], linestyle='--')\n",
    "# Plot the roc curve for the model\n",
    "plt.plot(fpr, tpr, marker='.')\n",
    "# Show the plot\n",
    "plt.show()"
   ]
  },
  {
   "cell_type": "markdown",
   "metadata": {},
   "source": [
    "### Random Forest Classifier Testing"
   ]
  },
  {
   "cell_type": "code",
   "execution_count": 76,
   "metadata": {},
   "outputs": [],
   "source": [
    "# Get test results\n",
    "\n",
    "y_test_pred = rfc.predict(X_test)"
   ]
  },
  {
   "cell_type": "code",
   "execution_count": 77,
   "metadata": {},
   "outputs": [
    {
     "data": {
      "text/plain": [
       "array([[16690,  3335],\n",
       "       [ 4437, 15717]])"
      ]
     },
     "execution_count": 77,
     "metadata": {},
     "output_type": "execute_result"
    }
   ],
   "source": [
    "# Analyze results via confustion matrix\n",
    "\n",
    "confusion_matrix(y_test, y_test_pred)"
   ]
  },
  {
   "cell_type": "code",
   "execution_count": 78,
   "metadata": {
    "scrolled": true
   },
   "outputs": [
    {
     "name": "stdout",
     "output_type": "stream",
     "text": [
      "              precision    recall  f1-score   support\n",
      "\n",
      "           0       0.79      0.83      0.81     20025\n",
      "           1       0.82      0.78      0.80     20154\n",
      "\n",
      "   micro avg       0.81      0.81      0.81     40179\n",
      "   macro avg       0.81      0.81      0.81     40179\n",
      "weighted avg       0.81      0.81      0.81     40179\n",
      "\n"
     ]
    }
   ],
   "source": [
    "# Analyze results via precision/recall/fl_score\n",
    "\n",
    "print(classification_report(y_test, y_test_pred))"
   ]
  },
  {
   "cell_type": "code",
   "execution_count": 79,
   "metadata": {},
   "outputs": [],
   "source": [
    "# Graph ROC curve for model\n",
    "\n",
    "probs_test = rfc.predict_proba(X_test)[:,1]"
   ]
  },
  {
   "cell_type": "code",
   "execution_count": 80,
   "metadata": {},
   "outputs": [
    {
     "data": {
      "image/png": "[encoded data removed]",
      "text/plain": [
       "<Figure size 504x504 with 1 Axes>"
      ]
     },
     "metadata": {
      "needs_background": "light"
     },
     "output_type": "display_data"
    }
   ],
   "source": [
    "font = {'family' : 'normal',\n",
    "        'weight' : 'bold',\n",
    "        'size'   : 18}\n",
    "\n",
    "plt.rc('font', **font)\n",
    "plt.figure(figsize=(7,7))\n",
    "plt.ylabel('True Positve Rate', fontdict=font)\n",
    "plt.xlabel('False Postive Rate', fontdict=font)\n",
    "plt.xticks(fontsize=18)\n",
    "plt.yticks(fontsize=18)\n",
    "\n",
    "fpr, tpr, thresholds = roc_curve(y_test, probs_test)\n",
    "# plot no skill\n",
    "plt.plot([0, 1], [0, 1], linestyle='--')\n",
    "# plot the roc curve for the model\n",
    "plt.plot(fpr, tpr, marker='.')\n",
    "\n",
    "plt.savefig('random_forest_ROC.png', transparent=True)\n",
    "# show the plot\n",
    "plt.show()\n",
    "\n",
    "# plt.savefig('random_forest_ROC.png', transparent=True)"
   ]
  },
  {
   "cell_type": "markdown",
   "metadata": {},
   "source": [
    "### Bias Analysis"
   ]
  },
  {
   "cell_type": "markdown",
   "metadata": {},
   "source": [
    "#### Gender Bias"
   ]
  },
  {
   "cell_type": "markdown",
   "metadata": {},
   "source": [
    "##### False Positives"
   ]
  },
  {
   "cell_type": "code",
   "execution_count": 52,
   "metadata": {},
   "outputs": [
    {
     "ename": "NameError",
     "evalue": "name 'data' is not defined",
     "output_type": "error",
     "traceback": [
      "\u001b[0;31m---------------------------------------------------------------------------\u001b[0m",
      "\u001b[0;31mNameError\u001b[0m                                 Traceback (most recent call last)",
      "\u001b[0;32m<ipython-input-52-b7613d73e0c5>\u001b[0m in \u001b[0;36m<module>\u001b[0;34m\u001b[0m\n\u001b[1;32m      3\u001b[0m \u001b[0mpreds\u001b[0m \u001b[0;34m=\u001b[0m \u001b[0mpd\u001b[0m\u001b[0;34m.\u001b[0m\u001b[0mconcat\u001b[0m\u001b[0;34m(\u001b[0m\u001b[0;34m[\u001b[0m\u001b[0my_test\u001b[0m\u001b[0;34m,\u001b[0m \u001b[0mpd\u001b[0m\u001b[0;34m.\u001b[0m\u001b[0mSeries\u001b[0m\u001b[0;34m(\u001b[0m\u001b[0my_test_pred\u001b[0m\u001b[0;34m,\u001b[0m \u001b[0mname\u001b[0m\u001b[0;34m=\u001b[0m\u001b[0;34m'pred'\u001b[0m\u001b[0;34m,\u001b[0m \u001b[0mindex\u001b[0m\u001b[0;34m=\u001b[0m\u001b[0my_test\u001b[0m\u001b[0;34m.\u001b[0m\u001b[0mindex\u001b[0m\u001b[0;34m)\u001b[0m\u001b[0;34m,\u001b[0m \u001b[0mX_test\u001b[0m\u001b[0;34m]\u001b[0m\u001b[0;34m,\u001b[0m \u001b[0maxis\u001b[0m\u001b[0;34m=\u001b[0m\u001b[0;36m1\u001b[0m\u001b[0;34m,\u001b[0m \u001b[0mignore_index\u001b[0m\u001b[0;34m=\u001b[0m\u001b[0;32mFalse\u001b[0m\u001b[0;34m)\u001b[0m\u001b[0;34m\u001b[0m\u001b[0;34m\u001b[0m\u001b[0m\n\u001b[1;32m      4\u001b[0m \u001b[0;34m\u001b[0m\u001b[0m\n\u001b[0;32m----> 5\u001b[0;31m \u001b[0mpreds\u001b[0m \u001b[0;34m=\u001b[0m \u001b[0mpd\u001b[0m\u001b[0;34m.\u001b[0m\u001b[0mmerge\u001b[0m\u001b[0;34m(\u001b[0m\u001b[0mpreds\u001b[0m\u001b[0;34m,\u001b[0m \u001b[0mdata\u001b[0m\u001b[0;34m[\u001b[0m\u001b[0;34m[\u001b[0m\u001b[0;34m'V9'\u001b[0m\u001b[0;34m,\u001b[0m \u001b[0;34m'V10'\u001b[0m\u001b[0;34m]\u001b[0m\u001b[0;34m]\u001b[0m\u001b[0;34m,\u001b[0m \u001b[0mleft_index\u001b[0m\u001b[0;34m=\u001b[0m\u001b[0;32mTrue\u001b[0m\u001b[0;34m,\u001b[0m \u001b[0mright_index\u001b[0m\u001b[0;34m=\u001b[0m\u001b[0;32mTrue\u001b[0m\u001b[0;34m)\u001b[0m\u001b[0;34m\u001b[0m\u001b[0;34m\u001b[0m\u001b[0m\n\u001b[0m",
      "\u001b[0;31mNameError\u001b[0m: name 'data' is not defined"
     ]
    }
   ],
   "source": [
    "# Generate Dataframe with results and original dataset\n",
    "\n",
    "preds = pd.concat([y_test, pd.Series(y_test_pred, name='pred', index=y_test.index), X_test], axis=1, ignore_index=False)\n",
    "\n",
    "preds = pd.merge(preds, data[['V9', 'V10']], left_index=True, right_index=True)"
   ]
  },
  {
   "cell_type": "code",
   "execution_count": 53,
   "metadata": {},
   "outputs": [
    {
     "ename": "KeyError",
     "evalue": "'V9'",
     "output_type": "error",
     "traceback": [
      "\u001b[0;31m---------------------------------------------------------------------------\u001b[0m",
      "\u001b[0;31mKeyError\u001b[0m                                  Traceback (most recent call last)",
      "\u001b[0;32m~/anaconda3/lib/python3.7/site-packages/pandas/core/indexes/base.py\u001b[0m in \u001b[0;36mget_loc\u001b[0;34m(self, key, method, tolerance)\u001b[0m\n\u001b[1;32m   2656\u001b[0m             \u001b[0;32mtry\u001b[0m\u001b[0;34m:\u001b[0m\u001b[0;34m\u001b[0m\u001b[0;34m\u001b[0m\u001b[0m\n\u001b[0;32m-> 2657\u001b[0;31m                 \u001b[0;32mreturn\u001b[0m \u001b[0mself\u001b[0m\u001b[0;34m.\u001b[0m\u001b[0m_engine\u001b[0m\u001b[0;34m.\u001b[0m\u001b[0mget_loc\u001b[0m\u001b[0;34m(\u001b[0m\u001b[0mkey\u001b[0m\u001b[0;34m)\u001b[0m\u001b[0;34m\u001b[0m\u001b[0;34m\u001b[0m\u001b[0m\n\u001b[0m\u001b[1;32m   2658\u001b[0m             \u001b[0;32mexcept\u001b[0m \u001b[0mKeyError\u001b[0m\u001b[0;34m:\u001b[0m\u001b[0;34m\u001b[0m\u001b[0;34m\u001b[0m\u001b[0m\n",
      "\u001b[0;32mpandas/_libs/index.pyx\u001b[0m in \u001b[0;36mpandas._libs.index.IndexEngine.get_loc\u001b[0;34m()\u001b[0m\n",
      "\u001b[0;32mpandas/_libs/index.pyx\u001b[0m in \u001b[0;36mpandas._libs.index.IndexEngine.get_loc\u001b[0;34m()\u001b[0m\n",
      "\u001b[0;32mpandas/_libs/hashtable_class_helper.pxi\u001b[0m in \u001b[0;36mpandas._libs.hashtable.PyObjectHashTable.get_item\u001b[0;34m()\u001b[0m\n",
      "\u001b[0;32mpandas/_libs/hashtable_class_helper.pxi\u001b[0m in \u001b[0;36mpandas._libs.hashtable.PyObjectHashTable.get_item\u001b[0;34m()\u001b[0m\n",
      "\u001b[0;31mKeyError\u001b[0m: 'V9'",
      "\nDuring handling of the above exception, another exception occurred:\n",
      "\u001b[0;31mKeyError\u001b[0m                                  Traceback (most recent call last)",
      "\u001b[0;32m<ipython-input-53-c7f860b16f2b>\u001b[0m in \u001b[0;36m<module>\u001b[0;34m\u001b[0m\n\u001b[1;32m      1\u001b[0m \u001b[0;31m# Calculate sex-based percentage of false positives\u001b[0m\u001b[0;34m\u001b[0m\u001b[0;34m\u001b[0m\u001b[0;34m\u001b[0m\u001b[0m\n\u001b[1;32m      2\u001b[0m \u001b[0;34m\u001b[0m\u001b[0m\n\u001b[0;32m----> 3\u001b[0;31m \u001b[0msex_false_pos\u001b[0m \u001b[0;34m=\u001b[0m \u001b[0mpreds\u001b[0m\u001b[0;34m.\u001b[0m\u001b[0mloc\u001b[0m\u001b[0;34m[\u001b[0m\u001b[0;34m(\u001b[0m\u001b[0mpreds\u001b[0m\u001b[0;34m[\u001b[0m\u001b[0;34m'outcome'\u001b[0m\u001b[0;34m]\u001b[0m \u001b[0;34m==\u001b[0m \u001b[0;36m0\u001b[0m\u001b[0;34m)\u001b[0m \u001b[0;34m&\u001b[0m \u001b[0;34m(\u001b[0m\u001b[0mpreds\u001b[0m\u001b[0;34m[\u001b[0m\u001b[0;34m'pred'\u001b[0m\u001b[0;34m]\u001b[0m \u001b[0;34m==\u001b[0m \u001b[0;36m1\u001b[0m\u001b[0;34m)\u001b[0m\u001b[0;34m]\u001b[0m\u001b[0;34m[\u001b[0m\u001b[0;34m'V9'\u001b[0m\u001b[0;34m]\u001b[0m\u001b[0;34m\u001b[0m\u001b[0;34m\u001b[0m\u001b[0m\n\u001b[0m\u001b[1;32m      4\u001b[0m \u001b[0;34m\u001b[0m\u001b[0m\n\u001b[1;32m      5\u001b[0m \u001b[0mmen_false_pos\u001b[0m \u001b[0;34m=\u001b[0m \u001b[0msum\u001b[0m\u001b[0;34m(\u001b[0m\u001b[0msex_false_pos\u001b[0m \u001b[0;34m==\u001b[0m \u001b[0;36m1\u001b[0m\u001b[0;34m)\u001b[0m\u001b[0;34m/\u001b[0m\u001b[0msum\u001b[0m\u001b[0;34m(\u001b[0m\u001b[0mdata\u001b[0m\u001b[0;34m[\u001b[0m\u001b[0;34m'V9'\u001b[0m\u001b[0;34m]\u001b[0m \u001b[0;34m==\u001b[0m \u001b[0;36m1\u001b[0m\u001b[0;34m)\u001b[0m\u001b[0;34m\u001b[0m\u001b[0;34m\u001b[0m\u001b[0m\n",
      "\u001b[0;32m~/anaconda3/lib/python3.7/site-packages/pandas/core/frame.py\u001b[0m in \u001b[0;36m__getitem__\u001b[0;34m(self, key)\u001b[0m\n\u001b[1;32m   2925\u001b[0m             \u001b[0;32mif\u001b[0m \u001b[0mself\u001b[0m\u001b[0;34m.\u001b[0m\u001b[0mcolumns\u001b[0m\u001b[0;34m.\u001b[0m\u001b[0mnlevels\u001b[0m \u001b[0;34m>\u001b[0m \u001b[0;36m1\u001b[0m\u001b[0;34m:\u001b[0m\u001b[0;34m\u001b[0m\u001b[0;34m\u001b[0m\u001b[0m\n\u001b[1;32m   2926\u001b[0m                 \u001b[0;32mreturn\u001b[0m \u001b[0mself\u001b[0m\u001b[0;34m.\u001b[0m\u001b[0m_getitem_multilevel\u001b[0m\u001b[0;34m(\u001b[0m\u001b[0mkey\u001b[0m\u001b[0;34m)\u001b[0m\u001b[0;34m\u001b[0m\u001b[0;34m\u001b[0m\u001b[0m\n\u001b[0;32m-> 2927\u001b[0;31m             \u001b[0mindexer\u001b[0m \u001b[0;34m=\u001b[0m \u001b[0mself\u001b[0m\u001b[0;34m.\u001b[0m\u001b[0mcolumns\u001b[0m\u001b[0;34m.\u001b[0m\u001b[0mget_loc\u001b[0m\u001b[0;34m(\u001b[0m\u001b[0mkey\u001b[0m\u001b[0;34m)\u001b[0m\u001b[0;34m\u001b[0m\u001b[0;34m\u001b[0m\u001b[0m\n\u001b[0m\u001b[1;32m   2928\u001b[0m             \u001b[0;32mif\u001b[0m \u001b[0mis_integer\u001b[0m\u001b[0;34m(\u001b[0m\u001b[0mindexer\u001b[0m\u001b[0;34m)\u001b[0m\u001b[0;34m:\u001b[0m\u001b[0;34m\u001b[0m\u001b[0;34m\u001b[0m\u001b[0m\n\u001b[1;32m   2929\u001b[0m                 \u001b[0mindexer\u001b[0m \u001b[0;34m=\u001b[0m \u001b[0;34m[\u001b[0m\u001b[0mindexer\u001b[0m\u001b[0;34m]\u001b[0m\u001b[0;34m\u001b[0m\u001b[0;34m\u001b[0m\u001b[0m\n",
      "\u001b[0;32m~/anaconda3/lib/python3.7/site-packages/pandas/core/indexes/base.py\u001b[0m in \u001b[0;36mget_loc\u001b[0;34m(self, key, method, tolerance)\u001b[0m\n\u001b[1;32m   2657\u001b[0m                 \u001b[0;32mreturn\u001b[0m \u001b[0mself\u001b[0m\u001b[0;34m.\u001b[0m\u001b[0m_engine\u001b[0m\u001b[0;34m.\u001b[0m\u001b[0mget_loc\u001b[0m\u001b[0;34m(\u001b[0m\u001b[0mkey\u001b[0m\u001b[0;34m)\u001b[0m\u001b[0;34m\u001b[0m\u001b[0;34m\u001b[0m\u001b[0m\n\u001b[1;32m   2658\u001b[0m             \u001b[0;32mexcept\u001b[0m \u001b[0mKeyError\u001b[0m\u001b[0;34m:\u001b[0m\u001b[0;34m\u001b[0m\u001b[0;34m\u001b[0m\u001b[0m\n\u001b[0;32m-> 2659\u001b[0;31m                 \u001b[0;32mreturn\u001b[0m \u001b[0mself\u001b[0m\u001b[0;34m.\u001b[0m\u001b[0m_engine\u001b[0m\u001b[0;34m.\u001b[0m\u001b[0mget_loc\u001b[0m\u001b[0;34m(\u001b[0m\u001b[0mself\u001b[0m\u001b[0;34m.\u001b[0m\u001b[0m_maybe_cast_indexer\u001b[0m\u001b[0;34m(\u001b[0m\u001b[0mkey\u001b[0m\u001b[0;34m)\u001b[0m\u001b[0;34m)\u001b[0m\u001b[0;34m\u001b[0m\u001b[0;34m\u001b[0m\u001b[0m\n\u001b[0m\u001b[1;32m   2660\u001b[0m         \u001b[0mindexer\u001b[0m \u001b[0;34m=\u001b[0m \u001b[0mself\u001b[0m\u001b[0;34m.\u001b[0m\u001b[0mget_indexer\u001b[0m\u001b[0;34m(\u001b[0m\u001b[0;34m[\u001b[0m\u001b[0mkey\u001b[0m\u001b[0;34m]\u001b[0m\u001b[0;34m,\u001b[0m \u001b[0mmethod\u001b[0m\u001b[0;34m=\u001b[0m\u001b[0mmethod\u001b[0m\u001b[0;34m,\u001b[0m \u001b[0mtolerance\u001b[0m\u001b[0;34m=\u001b[0m\u001b[0mtolerance\u001b[0m\u001b[0;34m)\u001b[0m\u001b[0;34m\u001b[0m\u001b[0;34m\u001b[0m\u001b[0m\n\u001b[1;32m   2661\u001b[0m         \u001b[0;32mif\u001b[0m \u001b[0mindexer\u001b[0m\u001b[0;34m.\u001b[0m\u001b[0mndim\u001b[0m \u001b[0;34m>\u001b[0m \u001b[0;36m1\u001b[0m \u001b[0;32mor\u001b[0m \u001b[0mindexer\u001b[0m\u001b[0;34m.\u001b[0m\u001b[0msize\u001b[0m \u001b[0;34m>\u001b[0m \u001b[0;36m1\u001b[0m\u001b[0;34m:\u001b[0m\u001b[0;34m\u001b[0m\u001b[0;34m\u001b[0m\u001b[0m\n",
      "\u001b[0;32mpandas/_libs/index.pyx\u001b[0m in \u001b[0;36mpandas._libs.index.IndexEngine.get_loc\u001b[0;34m()\u001b[0m\n",
      "\u001b[0;32mpandas/_libs/index.pyx\u001b[0m in \u001b[0;36mpandas._libs.index.IndexEngine.get_loc\u001b[0;34m()\u001b[0m\n",
      "\u001b[0;32mpandas/_libs/hashtable_class_helper.pxi\u001b[0m in \u001b[0;36mpandas._libs.hashtable.PyObjectHashTable.get_item\u001b[0;34m()\u001b[0m\n",
      "\u001b[0;32mpandas/_libs/hashtable_class_helper.pxi\u001b[0m in \u001b[0;36mpandas._libs.hashtable.PyObjectHashTable.get_item\u001b[0;34m()\u001b[0m\n",
      "\u001b[0;31mKeyError\u001b[0m: 'V9'"
     ]
    }
   ],
   "source": [
    "# Calculate sex-based percentage of false positives\n",
    "\n",
    "sex_false_pos = preds.loc[(preds['outcome'] == 0) & (preds['pred'] == 1)]['V9']\n",
    "\n",
    "men_false_pos = sum(sex_false_pos == 1)/sum(data['V9'] == 1)\n",
    "\n",
    "women_false_pos = sum(sex_false_pos == 2)/sum(data['V9'] == 2)"
   ]
  },
  {
   "cell_type": "code",
   "execution_count": 151,
   "metadata": {},
   "outputs": [
    {
     "data": {
      "image/png": "[encoded data removed]",
      "text/plain": [
       "<Figure size 504x504 with 1 Axes>"
      ]
     },
     "metadata": {
      "needs_background": "light"
     },
     "output_type": "display_data"
    }
   ],
   "source": [
    "font = {'family' : 'normal',\n",
    "        'weight' : 'bold',\n",
    "        'size'   : 18}\n",
    "\n",
    "plt.rc('font', **font)\n",
    "\n",
    "plt.figure(figsize=(7,7))\n",
    "plt.bar(x=['Men', 'Women'], height=[men_false_pos, women_false_pos])\n",
    "plt.title('False Positive', fontdict=font)\n",
    "plt.ylabel('Percentage False Postive', fontdict=font)\n",
    "plt.xticks(fontsize=18)\n",
    "plt.yticks(fontsize=18)\n",
    "plt.savefig('gender_false_pos', transparent=True)"
   ]
  },
  {
   "cell_type": "markdown",
   "metadata": {},
   "source": [
    "##### False Negatives"
   ]
  },
  {
   "cell_type": "code",
   "execution_count": 152,
   "metadata": {
    "scrolled": true
   },
   "outputs": [],
   "source": [
    "# Calculate sex-based percentage of false negatives\n",
    "\n",
    "sex_false_neg = preds.loc[(preds['outcome'] == 1) & (preds['pred'] == 0)]['V9']\n",
    "\n",
    "men_false_neg = sum(sex_false_neg == 1)/sum(data['V9'] == 1)\n",
    "\n",
    "women_false_neg = sum(sex_false_neg == 2)/sum(data['V9'] == 2)"
   ]
  },
  {
   "cell_type": "code",
   "execution_count": 153,
   "metadata": {
    "scrolled": true
   },
   "outputs": [
    {
     "data": {
      "image/png": "[encoded data removed]",
      "text/plain": [
       "<Figure size 504x504 with 1 Axes>"
      ]
     },
     "metadata": {
      "needs_background": "light"
     },
     "output_type": "display_data"
    }
   ],
   "source": [
    "font = {'family' : 'normal',\n",
    "        'weight' : 'bold',\n",
    "        'size'   : 18}\n",
    "\n",
    "plt.rc('font', **font)\n",
    "\n",
    "plt.figure(figsize=(7,7))\n",
    "plt.bar(x=['men', 'women'], height=[men_false_neg, women_false_neg])\n",
    "plt.title('False Negative', fontdict=font)\n",
    "plt.ylabel('Percentage False Negative', fontdict=font)\n",
    "plt.xticks(fontsize=18)\n",
    "plt.yticks(fontsize=18)\n",
    "plt.savefig('gender_false_neg', transparent=True)"
   ]
  },
  {
   "cell_type": "markdown",
   "metadata": {},
   "source": [
    "#### Racial Bias"
   ]
  },
  {
   "cell_type": "code",
   "execution_count": 121,
   "metadata": {
    "scrolled": true
   },
   "outputs": [],
   "source": [
    "racial_false_pos = preds.loc[(preds['outcome'] == 0) & (preds['pred'] == 1)]['V10']\n",
    "\n",
    "white_false_pos = sum(racial_false_pos == 1)/sum(data['V10'] == 1)\n",
    "\n",
    "black_false_pos = sum(racial_false_pos == 2)/sum(data['V10'] == 2)\n",
    "\n",
    "americanindian_false_pos = sum(racial_false_pos == 3)/sum(data['V10'] == 3)\n",
    "\n",
    "asian_false_pos = sum(racial_false_pos == 4)/sum(data['V10'] == 4)\n",
    "\n",
    "other_false_pos = sum(racial_false_pos == 6)/sum(data['V10'] == 6)"
   ]
  },
  {
   "cell_type": "code",
   "execution_count": 149,
   "metadata": {
    "scrolled": false
   },
   "outputs": [
    {
     "data": {
      "image/png": "[encoded data removed]",
      "text/plain": [
       "<Figure size 720x504 with 1 Axes>"
      ]
     },
     "metadata": {
      "needs_background": "light"
     },
     "output_type": "display_data"
    }
   ],
   "source": [
    "font = {'family' : 'normal',\n",
    "        'weight' : 'bold',\n",
    "        'size'   : 18}\n",
    "\n",
    "plt.rc('font', **font)\n",
    "\n",
    "plt.figure(figsize=(10,7))\n",
    "\n",
    "plt.bar(x=['White', 'Black', 'American Indian', 'Asian', 'Other'], \n",
    "        height=[white_false_pos,\n",
    "               black_false_pos,\n",
    "               americanindian_false_pos,\n",
    "               asian_false_pos,\n",
    "               other_false_pos])\n",
    "plt.title('False Positive', fontdict=font)\n",
    "plt.ylabel('Percentage False Positive', fontdict=font)\n",
    "plt.xticks(fontsize=14)\n",
    "plt.yticks(fontsize=18)\n",
    "plt.savefig('race_false_pos', transparent=True)"
   ]
  },
  {
   "cell_type": "code",
   "execution_count": 131,
   "metadata": {
    "scrolled": true
   },
   "outputs": [],
   "source": [
    "racial_false_neg = preds.loc[(preds['outcome'] == 0) & (preds['pred'] == 1)]['V10']\n",
    "\n",
    "white_false_neg = sum(racial_false_pos == 1)/sum(data['V10'] == 1)\n",
    "\n",
    "black_false_neg = sum(racial_false_pos == 2)/sum(data['V10'] == 2)\n",
    "\n",
    "americanindian_false_neg = sum(racial_false_pos == 3)/sum(data['V10'] == 3)\n",
    "\n",
    "asian_false_neg = sum(racial_false_pos == 4)/sum(data['V10'] == 4)\n",
    "\n",
    "other_false_neg = sum(racial_false_pos == 6)/sum(data['V10'] == 6)"
   ]
  },
  {
   "cell_type": "code",
   "execution_count": 150,
   "metadata": {
    "scrolled": false
   },
   "outputs": [
    {
     "data": {
      "image/png": "[encoded data removed]",
      "text/plain": [
       "<Figure size 720x504 with 1 Axes>"
      ]
     },
     "metadata": {
      "needs_background": "light"
     },
     "output_type": "display_data"
    }
   ],
   "source": [
    "font = {'family' : 'normal',\n",
    "        'weight' : 'bold',\n",
    "        'size'   : 18}\n",
    "\n",
    "plt.rc('font', **font)\n",
    "\n",
    "plt.figure(figsize=(10,7))\n",
    "\n",
    "plt.bar(x=['White', 'Black', 'American Indian', 'Asian', 'Other'], \n",
    "        height=[white_false_neg,\n",
    "               black_false_neg,\n",
    "               americanindian_false_neg,\n",
    "               asian_false_neg,\n",
    "               other_false_neg])\n",
    "plt.title('False Negative', fontdict=font)\n",
    "plt.ylabel('Percentage False Positive', fontdict=font)\n",
    "plt.xticks(fontsize=14)\n",
    "plt.yticks(fontsize=18)\n",
    "plt.savefig('race_false_neg', transparent=True)"
   ]
  },
  {
   "cell_type": "markdown",
   "metadata": {},
   "source": [
    "### Model Visualizations"
   ]
  },
  {
   "cell_type": "code",
   "execution_count": 167,
   "metadata": {},
   "outputs": [
    {
     "data": {
      "image/png": "[encoded data removed]",
      "text/plain": [
       "<Figure size 720x720 with 1 Axes>"
      ]
     },
     "metadata": {
      "needs_background": "light"
     },
     "output_type": "display_data"
    },
    {
     "data": {
      "text/plain": [
       "<matplotlib.axes._subplots.AxesSubplot at 0x7fe6e4054128>"
      ]
     },
     "execution_count": 167,
     "metadata": {},
     "output_type": "execute_result"
    }
   ],
   "source": [
    "# Plot \n",
    "\n",
    "plt.figure(figsize=(10,10))\n",
    "viz = ConfusionMatrix(RandomForestClassifier(n_estimators=150, oob_score=True, criterion='entropy', max_depth=100, n_jobs=-1), cmap ='PuBu', fontsize=18)\n",
    "viz.fit(X_train, y_train)\n",
    "viz.score(X_test, y_test)\n",
    "plt.xlabel('Predicted Class', fontsize=18)\n",
    "plt.ylabel('Actual Class', fontsize=18)\n",
    "plt.xticks(ticks = [0.5, 1.5], labels=['Break Parole', 'Complete Parole'], rotation=0)\n",
    "plt.yticks(ticks = [0.7, 1.7], labels=['Complete Parole', 'Break Parole'], rotation=90)\n",
    "viz.poof()"
   ]
  }
 ],
 "metadata": {
  "kernelspec": {
   "display_name": "Python 3",
   "language": "python",
   "name": "python3"
  },
  "language_info": {
   "codemirror_mode": {
    "name": "ipython",
    "version": 3
   },
   "file_extension": ".py",
   "mimetype": "text/x-python",
   "name": "python",
   "nbconvert_exporter": "python",
   "pygments_lexer": "ipython3",
   "version": "3.7.3"
  },
  "toc": {
   "base_numbering": 1,
   "nav_menu": {},
   "number_sections": true,
   "sideBar": true,
   "skip_h1_title": false,
   "title_cell": "Table of Contents",
   "title_sidebar": "Contents",
   "toc_cell": false,
   "toc_position": {},
   "toc_section_display": true,
   "toc_window_display": false
  }
 },
 "nbformat": 4,
 "nbformat_minor": 2
}
