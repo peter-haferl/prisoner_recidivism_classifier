{
 "cells": [
  {
   "cell_type": "code",
   "execution_count": 13,
   "metadata": {},
   "outputs": [],
   "source": [
    "import pandas as pd\n",
    "import numpy as np\n",
    "import tqdm\n",
    "import missingno as msno\n",
    "from sklearn.ensemble import RandomForestClassifier\n",
    "from sklearn.metrics import classification_report\n",
    "from sklearn.metrics import confusion_matrix\n",
    "from sklearn.model_selection import train_test_split, GridSearchCV\n",
    "from sklearn.metrics import roc_curve\n",
    "from sklearn.metrics import roc_auc_score\n",
    "from sklearn.pipeline import Pipeline\n",
    "from yellowbrick.classifier import ClassificationReport\n",
    "from yellowbrick.classifier import ConfusionMatrix\n",
    "from yellowbrick.classifier import ROCAUC\n",
    "from sklearn.externals import joblib\n",
    "from scipy.stats import chi2_contingency\n",
    "from sklearn.pipeline import Pipeline\n",
    "from sklearn.preprocessing import StandardScaler\n",
    "from sklearn.svm import LinearSVC\n",
    "import matplotlib.pyplot as plt\n",
    "import warnings "
   ]
  },
  {
   "cell_type": "code",
   "execution_count": 2,
   "metadata": {
    "scrolled": false
   },
   "outputs": [
    {
     "name": "stderr",
     "output_type": "stream",
     "text": [
      "/home/peter/anaconda3/lib/python3.7/site-packages/IPython/core/interactiveshell.py:3049: DtypeWarning: Columns (95,96,97,98) have mixed types. Specify dtype option on import or set low_memory=False.\n",
      "  interactivity=interactivity, compiler=compiler, result=result)\n"
     ]
    },
    {
     "name": "stdout",
     "output_type": "stream",
     "text": [
      "['V1', 'V2', 'V3', 'V5', 'V54', 'V95']\n"
     ]
    }
   ],
   "source": [
    "%matplotlib inline\n",
    "\n",
    "data = pd.read_csv('da26521-0003.tsv', sep='\\t', header=0)\n",
    "\n",
    "def replace_missing(x):\n",
    "    \n",
    "    if len(str(x)) == 1 and x in [8, 5, 9]:\n",
    "            return np.nan\n",
    "        \n",
    "    if len(str(x)) == 2 and x in [88, 95, 98, 99, 97]:\n",
    "            return np.nan\n",
    "        \n",
    "    if len(str(x)) == 3 and x in [888, 995, 998, 999, 98.0]:\n",
    "            return np.nan\n",
    "        \n",
    "    if len(str(x)) == 4 and x in [88.8, 99.5, 99.8, 8888, 9995, 9998, 9999]:\n",
    "            return np.nan\n",
    "        \n",
    "    if len(str(x)) == 5 and x in [888.8, 999.5, 999.8, 88888, 99995, 99998, 99999]:\n",
    "            return np.nan\n",
    "        \n",
    "    if len(str(x)) == 6 and x in [8888.8, 9999.5, 9999.8]:\n",
    "            return np.nan    \n",
    "    \n",
    "    else:\n",
    "        return x\n",
    "\n",
    "data = data.applymap(lambda x: replace_missing(x)).copy()\n",
    "\n",
    "def list_of_absent_data_columns(data, ratio=0.2):\n",
    "    \"\"\"returns list of columns whose missing values make up \\\n",
    "    more than a set ratio (default is half) of the data\"\"\"\n",
    "    variables_list = list(data.columns)\n",
    "    missing_list = []\n",
    "    for variable in variables_list:\n",
    "        missing_ratio = sum(data[variable].isna()) / len(data)\n",
    "        if missing_ratio > ratio:\n",
    "            missing_list.append(variable)\n",
    "    return missing_list\n",
    "\n",
    "absent_columns = list_of_absent_data_columns(data)\n",
    "\n",
    "data.drop(columns=absent_columns, inplace=True)\n",
    "\n",
    "def missing_vis(data):\n",
    "    \"\"\"Returns 4 graphics: bar chart, distributions, heatmap \\\n",
    "    (of correlation between nulls), and dendogram\"\"\"\n",
    "    msno.bar(data);\n",
    "    msno.matrix(data);\n",
    "    msno.heatmap(data);\n",
    "    msno.dendrogram(data);\n",
    "\n",
    "\n",
    "data.shape\n",
    "\n",
    "singular_variables = []\n",
    "for col in data.columns:\n",
    "#     print(col, len(set(prison_data[col])))\n",
    "    if data[col].nunique() == 1:\n",
    "        singular_variables.append(col)\n",
    "print(singular_variables)\n",
    "\n",
    "\n",
    "data.drop(columns = singular_variables, inplace=True)\n",
    "\n",
    "data.columns\n",
    "\n",
    "data.head()\n",
    "\n",
    "data.shape\n",
    "\n",
    "data = data.dropna()\n",
    "\n",
    "data_clean = data[data['V55'] != 10].copy()\n",
    "\n",
    "data_clean['outcome'] = data_clean['V55'].map(lambda x: 1 if x == 1 else 0)\n",
    "\n",
    "data_clean['outcome'].value_counts()\n",
    "\n",
    "data_clean.drop(columns='V55', inplace=True)\n",
    "\n",
    "data_clean.drop(columns=['V96', 'V97', 'V98', 'V99'], inplace=True)\n",
    "\n",
    "data_clean.columns\n",
    "\n",
    "data_clean.shape\n",
    "\n",
    "variable_names = {'V4': 'case_id',\n",
    "                  'V8': 'birth_year',\n",
    "                  'V9': 'sex',\n",
    "                  'V10': 'race',\n",
    "                  'V15': 'admission_year',\n",
    "                  'V24': 'prior_jail_time',\n",
    "                  'V25': 'prior_prison_time',\n",
    "                  'V26': 'offense_1',\n",
    "                  'V32': 'offense_longest_sentence',\n",
    "                  'V33': 'length_longest_sentence',\n",
    "                  'V34': 'total_max_sentence_length',\n",
    "                  'V46': 'year_prison_release',\n",
    "                  'V48': 'custody_agency_1',\n",
    "                  'V51': 'release_type',\n",
    "                  'V56': 'release_supervision_status',\n",
    "                  'V57': 'age_admission',\n",
    "                  'V58': 'age_prison_release',\n",
    "                  'V59': 'age_parole_release',\n",
    "                  'V62': 'time_served_current_admission',\n",
    "                  'V67': 'time_served_parole',\n",
    "                  'V70': 'total_max_sentence_indicator',\n",
    "                  'V71': 'number_of_offenses_indicator',\n",
    "                  'V94': 'state'}\n",
    "variable_categories = {'key': ['case_id'],\n",
    "                       'datetime': ['birth_year', 'admission_year', 'year_prison_release'],\n",
    "                       'categorical': ['sex', 'race', 'offense_1', 'offense_longest_sentence', 'custody_agency_1',\n",
    "                                       'release_type', 'release_supervision_status', 'number_of_offenses_indicator',\n",
    "                                       'state'],\n",
    "                       'numeric': ['prior_jail_time', 'prior_prison_time', 'age_admission', 'age_parole_release',\n",
    "                                   'time_served_current_admission', 'time_served_parole'],\n",
    "                       'mixed_numeric': ['length_longest_sentence', 'total_max_sentence_length',\n",
    "                                         'total_max_sentence_indicator']}\n",
    "\n",
    "descriptive_columns = list(variable_names.values())\n",
    "descriptive_columns.append('outcome')\n",
    "data_clean.columns = descriptive_columns\n",
    "data_clean = pd.get_dummies(data_clean, columns=variable_categories['categorical'], \n",
    "                            drop_first=True)\n",
    "\n",
    "data_clean.drop(columns=['race_2.0', 'race_3.0', 'race_4.0', 'race_6.0', 'sex_2.0'], inplace=True)"
   ]
  },
  {
   "cell_type": "code",
   "execution_count": 3,
   "metadata": {},
   "outputs": [],
   "source": [
    "X_train, X_test, y_train, y_test = train_test_split(data_clean.drop(columns=['outcome']), data_clean['outcome'])"
   ]
  },
  {
   "cell_type": "markdown",
   "metadata": {},
   "source": [
    "# SVC Model"
   ]
  },
  {
   "cell_type": "markdown",
   "metadata": {},
   "source": [
    "### Training"
   ]
  },
  {
   "cell_type": "code",
   "execution_count": 9,
   "metadata": {},
   "outputs": [
    {
     "name": "stderr",
     "output_type": "stream",
     "text": [
      "/home/peter/anaconda3/lib/python3.7/site-packages/sklearn/preprocessing/data.py:645: DataConversionWarning: Data with input dtype uint8, float64 were all converted to float64 by StandardScaler.\n",
      "  return self.partial_fit(X, y)\n",
      "/home/peter/anaconda3/lib/python3.7/site-packages/sklearn/base.py:464: DataConversionWarning: Data with input dtype uint8, float64 were all converted to float64 by StandardScaler.\n",
      "  return self.fit(X, **fit_params).transform(X)\n"
     ]
    }
   ],
   "source": [
    "scaled_X_train = StandardScaler().fit_transform(X_train)"
   ]
  },
  {
   "cell_type": "code",
   "execution_count": 10,
   "metadata": {
    "scrolled": false
   },
   "outputs": [
    {
     "name": "stdout",
     "output_type": "stream",
     "text": [
      "[LibLinear]"
     ]
    }
   ],
   "source": [
    "test = LinearSVC(C=1, penalty=\"l1\", dual=False, verbose=True, max_iter=10000).fit(scaled_X_train, y_train)"
   ]
  },
  {
   "cell_type": "code",
   "execution_count": 20,
   "metadata": {},
   "outputs": [],
   "source": [
    "train_predict = test.predict(scaled_X_train)"
   ]
  },
  {
   "cell_type": "code",
   "execution_count": 21,
   "metadata": {
    "scrolled": false
   },
   "outputs": [
    {
     "name": "stdout",
     "output_type": "stream",
     "text": [
      "              precision    recall  f1-score   support\n",
      "\n",
      "           0       0.81      0.95      0.87     59885\n",
      "           1       0.94      0.77      0.85     60324\n",
      "\n",
      "   micro avg       0.86      0.86      0.86    120209\n",
      "   macro avg       0.87      0.86      0.86    120209\n",
      "weighted avg       0.87      0.86      0.86    120209\n",
      "\n"
     ]
    }
   ],
   "source": [
    "print(classification_report(y_train, train_predict))"
   ]
  },
  {
   "cell_type": "markdown",
   "metadata": {},
   "source": [
    "### Test"
   ]
  },
  {
   "cell_type": "code",
   "execution_count": 22,
   "metadata": {
    "scrolled": true
   },
   "outputs": [
    {
     "name": "stderr",
     "output_type": "stream",
     "text": [
      "/home/peter/anaconda3/lib/python3.7/site-packages/sklearn/preprocessing/data.py:645: DataConversionWarning: Data with input dtype uint8, float64 were all converted to float64 by StandardScaler.\n",
      "  return self.partial_fit(X, y)\n",
      "/home/peter/anaconda3/lib/python3.7/site-packages/sklearn/base.py:464: DataConversionWarning: Data with input dtype uint8, float64 were all converted to float64 by StandardScaler.\n",
      "  return self.fit(X, **fit_params).transform(X)\n"
     ]
    }
   ],
   "source": [
    "scaled_X_test = StandardScaler().fit_transform(X_test)"
   ]
  },
  {
   "cell_type": "code",
   "execution_count": 23,
   "metadata": {},
   "outputs": [],
   "source": [
    "test_predict = test.predict(scaled_X_test)"
   ]
  },
  {
   "cell_type": "code",
   "execution_count": 24,
   "metadata": {},
   "outputs": [
    {
     "name": "stdout",
     "output_type": "stream",
     "text": [
      "              precision    recall  f1-score   support\n",
      "\n",
      "           0       0.80      0.95      0.87     19829\n",
      "           1       0.94      0.77      0.85     20241\n",
      "\n",
      "   micro avg       0.86      0.86      0.86     40070\n",
      "   macro avg       0.87      0.86      0.86     40070\n",
      "weighted avg       0.87      0.86      0.86     40070\n",
      "\n"
     ]
    }
   ],
   "source": [
    "print(classification_report(y_test, test_predict))"
   ]
  },
  {
   "cell_type": "code",
   "execution_count": 27,
   "metadata": {},
   "outputs": [
    {
     "data": {
      "text/plain": [
       "array([[18861,   968],\n",
       "       [ 4667, 15574]])"
      ]
     },
     "execution_count": 27,
     "metadata": {},
     "output_type": "execute_result"
    }
   ],
   "source": [
    "confusion_matrix(y_test, test_predict)"
   ]
  },
  {
   "cell_type": "markdown",
   "metadata": {},
   "source": [
    "### Bias Analysis"
   ]
  },
  {
   "cell_type": "markdown",
   "metadata": {},
   "source": [
    "#### Gender Bias"
   ]
  },
  {
   "cell_type": "markdown",
   "metadata": {},
   "source": [
    "##### False Positives"
   ]
  },
  {
   "cell_type": "code",
   "execution_count": 32,
   "metadata": {},
   "outputs": [
    {
     "data": {
      "text/plain": [
       "Text(0.5, 1.0, 'False Positive')"
      ]
     },
     "execution_count": 32,
     "metadata": {},
     "output_type": "execute_result"
    },
    {
     "data": {
      "image/png": "[encoded data removed]",
      "text/plain": [
       "<Figure size 432x288 with 1 Axes>"
      ]
     },
     "metadata": {
      "needs_background": "light"
     },
     "output_type": "display_data"
    }
   ],
   "source": [
    "# Generate Dataframe with results and original dataset\n",
    "\n",
    "preds = pd.concat([y_test, pd.Series(test_predict, name='pred', index=y_test.index), X_test], axis=1, ignore_index=False)\n",
    "\n",
    "preds = pd.merge(preds, data[['V9', 'V10']], left_index=True, right_index=True)\n",
    "\n",
    "# Calculate sex-based percentage of false positives\n",
    "\n",
    "sex_false_pos = preds.loc[(preds['outcome'] == 0) & (preds['pred'] == 1)]['V9']\n",
    "\n",
    "men_false_pos = sum(sex_false_pos == 1)/sum(data['V9'] == 1)\n",
    "\n",
    "women_false_pos = sum(sex_false_pos == 2)/sum(data['V9'] == 2)\n",
    "\n",
    "plt.bar(x=['men', 'women'], height=[men_false_pos, women_false_pos])\n",
    "plt.title('False Positive')"
   ]
  },
  {
   "cell_type": "markdown",
   "metadata": {},
   "source": [
    "##### False Negatives"
   ]
  },
  {
   "cell_type": "code",
   "execution_count": 33,
   "metadata": {},
   "outputs": [
    {
     "data": {
      "text/plain": [
       "Text(0.5, 1.0, 'False Negative')"
      ]
     },
     "execution_count": 33,
     "metadata": {},
     "output_type": "execute_result"
    },
    {
     "data": {
      "image/png": "[encoded data removed]",
      "text/plain": [
       "<Figure size 432x288 with 1 Axes>"
      ]
     },
     "metadata": {
      "needs_background": "light"
     },
     "output_type": "display_data"
    }
   ],
   "source": [
    "# Calculate sex-based percentage of false negatives\n",
    "\n",
    "sex_false_neg = preds.loc[(preds['outcome'] == 1) & (preds['pred'] == 0)]['V9']\n",
    "\n",
    "men_false_neg = sum(sex_false_neg == 1)/sum(data['V9'] == 1)\n",
    "\n",
    "women_false_neg = sum(sex_false_neg == 2)/sum(data['V9'] == 2)\n",
    "\n",
    "plt.bar(x=['men', 'women'], height=[men_false_neg, women_false_neg])\n",
    "plt.title('False Negative')"
   ]
  },
  {
   "cell_type": "markdown",
   "metadata": {},
   "source": [
    "#### Racial Bias"
   ]
  },
  {
   "cell_type": "code",
   "execution_count": 35,
   "metadata": {},
   "outputs": [
    {
     "data": {
      "text/plain": [
       "Text(0.5, 1.0, 'False Positive')"
      ]
     },
     "execution_count": 35,
     "metadata": {},
     "output_type": "execute_result"
    },
    {
     "data": {
      "image/png": "[encoded data removed]",
      "text/plain": [
       "<Figure size 432x288 with 1 Axes>"
      ]
     },
     "metadata": {
      "needs_background": "light"
     },
     "output_type": "display_data"
    }
   ],
   "source": [
    "racial_false_pos = preds.loc[(preds['outcome'] == 0) & (preds['pred'] == 1)]['V10']\n",
    "\n",
    "white_false_pos = sum(racial_false_pos == 1)/sum(data['V10'] == 1)\n",
    "\n",
    "black_false_pos = sum(racial_false_pos == 2)/sum(data['V10'] == 2)\n",
    "\n",
    "americanindian_false_pos = sum(racial_false_pos == 3)/sum(data['V10'] == 3)\n",
    "\n",
    "asian_false_pos = sum(racial_false_pos == 4)/sum(data['V10'] == 4)\n",
    "\n",
    "other_false_pos = sum(racial_false_pos == 6)/sum(data['V10'] == 6)\n",
    "\n",
    "plt.bar(x=['white', 'black', 'american indian', 'asian', 'other'], \n",
    "        height=[white_false_pos,\n",
    "               black_false_pos,\n",
    "               americanindian_false_pos,\n",
    "               asian_false_pos,\n",
    "               other_false_pos])\n",
    "plt.title('False Positive')"
   ]
  },
  {
   "cell_type": "code",
   "execution_count": 36,
   "metadata": {
    "scrolled": true
   },
   "outputs": [
    {
     "data": {
      "text/plain": [
       "<BarContainer object of 5 artists>"
      ]
     },
     "execution_count": 36,
     "metadata": {},
     "output_type": "execute_result"
    },
    {
     "data": {
      "image/png": "[encoded data removed]",
      "text/plain": [
       "<Figure size 432x288 with 1 Axes>"
      ]
     },
     "metadata": {
      "needs_background": "light"
     },
     "output_type": "display_data"
    }
   ],
   "source": [
    "racial_false_neg = preds.loc[(preds['outcome'] == 0) & (preds['pred'] == 1)]['V10']\n",
    "\n",
    "white_false_neg = sum(racial_false_pos == 1)/sum(data['V10'] == 1)\n",
    "\n",
    "black_false_neg = sum(racial_false_pos == 2)/sum(data['V10'] == 2)\n",
    "\n",
    "americanindian_false_neg = sum(racial_false_pos == 3)/sum(data['V10'] == 3)\n",
    "\n",
    "asian_false_neg = sum(racial_false_pos == 4)/sum(data['V10'] == 4)\n",
    "\n",
    "other_false_neg = sum(racial_false_pos == 6)/sum(data['V10'] == 6)\n",
    "\n",
    "plt.bar(x=['white', 'black', 'american indian', 'asian', 'other'], \n",
    "        height=[white_false_neg,\n",
    "               black_false_neg,\n",
    "               americanindian_false_neg,\n",
    "               asian_false_neg,\n",
    "               other_false_neg])"
   ]
  },
  {
   "cell_type": "markdown",
   "metadata": {},
   "source": [
    "### Model Viz"
   ]
  },
  {
   "cell_type": "code",
   "execution_count": 39,
   "metadata": {},
   "outputs": [
    {
     "name": "stdout",
     "output_type": "stream",
     "text": [
      "[LibLinear]"
     ]
    },
    {
     "data": {
      "image/png": "[encoded data removed]",
      "text/plain": [
       "<Figure size 720x720 with 1 Axes>"
      ]
     },
     "metadata": {
      "needs_background": "light"
     },
     "output_type": "display_data"
    },
    {
     "data": {
      "text/plain": [
       "<matplotlib.axes._subplots.AxesSubplot at 0x7fa29b5b4e10>"
      ]
     },
     "execution_count": 39,
     "metadata": {},
     "output_type": "execute_result"
    }
   ],
   "source": [
    "plt.figure(figsize=(10,10))\n",
    "viz = ConfusionMatrix(LinearSVC(C=1, penalty=\"l1\", dual=False, verbose=True, max_iter=10000).fit(scaled_X_train, y_train), cmap ='PuBu', fontsize=18)\n",
    "viz.fit(scaled_X_test, y_train)\n",
    "viz.score(scaled_X_test, y_test)\n",
    "plt.xlabel('Predicted Class', fontsize=18)\n",
    "plt.ylabel('Actual Class', fontsize=18)\n",
    "plt.xticks(ticks = [0.5, 1.5], labels=['Break Parole', 'Complete Parole'], rotation=0)\n",
    "plt.yticks(ticks = [0.7, 1.7], labels=['Complete Parole', 'Break Parole'], rotation=90)\n",
    "viz.poof()"
   ]
  },
  {
   "cell_type": "code",
   "execution_count": null,
   "metadata": {},
   "outputs": [],
   "source": []
  }
 ],
 "metadata": {
  "kernelspec": {
   "display_name": "Python 3",
   "language": "python",
   "name": "python3"
  },
  "language_info": {
   "codemirror_mode": {
    "name": "ipython",
    "version": 3
   },
   "file_extension": ".py",
   "mimetype": "text/x-python",
   "name": "python",
   "nbconvert_exporter": "python",
   "pygments_lexer": "ipython3",
   "version": "3.7.3"
  },
  "toc": {
   "base_numbering": 1,
   "nav_menu": {},
   "number_sections": true,
   "sideBar": true,
   "skip_h1_title": false,
   "title_cell": "Table of Contents",
   "title_sidebar": "Contents",
   "toc_cell": false,
   "toc_position": {},
   "toc_section_display": true,
   "toc_window_display": false
  }
 },
 "nbformat": 4,
 "nbformat_minor": 2
}
